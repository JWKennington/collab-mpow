{
 "cells": [
  {
   "cell_type": "markdown",
   "metadata": {},
   "source": [
    "# Retroactive Data Analysis"
   ]
  },
  {
   "cell_type": "markdown",
   "metadata": {},
   "source": [
    "## Imports"
   ]
  },
  {
   "cell_type": "code",
   "execution_count": 40,
   "metadata": {
    "ExecuteTime": {
     "end_time": "2017-11-29T01:09:43.095367Z",
     "start_time": "2017-11-29T01:09:43.090859Z"
    }
   },
   "outputs": [],
   "source": [
    "import os\n",
    "import pandas\n",
    "import statsmodels.api as sm\n",
    "import sys\n",
    "sys.path.append(os.path.dirname(os.getcwd()))\n",
    "sys.path.append('/Users/jim/repos/poincare/axiom')"
   ]
  },
  {
   "cell_type": "code",
   "execution_count": 41,
   "metadata": {
    "ExecuteTime": {
     "end_time": "2017-11-29T01:09:55.921375Z",
     "start_time": "2017-11-29T01:09:54.568452Z"
    },
    "collapsed": true
   },
   "outputs": [],
   "source": [
    "from axiom.vis.plotting.ggplot2 import image, gg2"
   ]
  },
  {
   "cell_type": "code",
   "execution_count": 2,
   "metadata": {
    "ExecuteTime": {
     "end_time": "2017-11-29T00:57:46.898992Z",
     "start_time": "2017-11-29T00:57:46.475640Z"
    }
   },
   "outputs": [
    {
     "data": {
      "text/html": []
     },
     "metadata": {},
     "output_type": "display_data"
    },
    {
     "data": {
      "application/javascript": [
       "\n",
       "(function(global) {\n",
       "  function now() {\n",
       "    return new Date();\n",
       "  }\n",
       "\n",
       "  var force = true;\n",
       "\n",
       "  if (typeof (window._bokeh_onload_callbacks) === \"undefined\" || force === true) {\n",
       "    window._bokeh_onload_callbacks = [];\n",
       "    window._bokeh_is_loading = undefined;\n",
       "  }\n",
       "\n",
       "\n",
       "  \n",
       "  if (typeof (window._bokeh_timeout) === \"undefined\" || force === true) {\n",
       "    window._bokeh_timeout = Date.now() + 5000;\n",
       "    window._bokeh_failed_load = false;\n",
       "  }\n",
       "\n",
       "  var NB_LOAD_WARNING = {'data': {'text/html':\n",
       "     \"<div style='background-color: #fdd'>\\n\"+\n",
       "     \"<p>\\n\"+\n",
       "     \"BokehJS does not appear to have successfully loaded. If loading BokehJS from CDN, this \\n\"+\n",
       "     \"may be due to a slow or bad network connection. Possible fixes:\\n\"+\n",
       "     \"</p>\\n\"+\n",
       "     \"<ul>\\n\"+\n",
       "     \"<li>re-rerun `output_notebook()` to attempt to load from CDN again, or</li>\\n\"+\n",
       "     \"<li>use INLINE resources instead, as so:</li>\\n\"+\n",
       "     \"</ul>\\n\"+\n",
       "     \"<code>\\n\"+\n",
       "     \"from bokeh.resources import INLINE\\n\"+\n",
       "     \"output_notebook(resources=INLINE)\\n\"+\n",
       "     \"</code>\\n\"+\n",
       "     \"</div>\"}};\n",
       "\n",
       "  function display_loaded() {\n",
       "    if (window.Bokeh !== undefined) {\n",
       "      var el = document.getElementById(\"\");\n",
       "      el.textContent = \"BokehJS \" + Bokeh.version + \" successfully loaded.\";\n",
       "    } else if (Date.now() < window._bokeh_timeout) {\n",
       "      setTimeout(display_loaded, 100)\n",
       "    }\n",
       "  }\n",
       "\n",
       "  function run_callbacks() {\n",
       "    window._bokeh_onload_callbacks.forEach(function(callback) { callback() });\n",
       "    delete window._bokeh_onload_callbacks\n",
       "    console.info(\"Bokeh: all callbacks have finished\");\n",
       "  }\n",
       "\n",
       "  function load_libs(js_urls, callback) {\n",
       "    window._bokeh_onload_callbacks.push(callback);\n",
       "    if (window._bokeh_is_loading > 0) {\n",
       "      console.log(\"Bokeh: BokehJS is being loaded, scheduling callback at\", now());\n",
       "      return null;\n",
       "    }\n",
       "    if (js_urls == null || js_urls.length === 0) {\n",
       "      run_callbacks();\n",
       "      return null;\n",
       "    }\n",
       "    console.log(\"Bokeh: BokehJS not loaded, scheduling load and callback at\", now());\n",
       "    window._bokeh_is_loading = js_urls.length;\n",
       "    for (var i = 0; i < js_urls.length; i++) {\n",
       "      var url = js_urls[i];\n",
       "      var s = document.createElement('script');\n",
       "      s.src = url;\n",
       "      s.async = false;\n",
       "      s.onreadystatechange = s.onload = function() {\n",
       "        window._bokeh_is_loading--;\n",
       "        if (window._bokeh_is_loading === 0) {\n",
       "          console.log(\"Bokeh: all BokehJS libraries loaded\");\n",
       "          run_callbacks()\n",
       "        }\n",
       "      };\n",
       "      s.onerror = function() {\n",
       "        console.warn(\"failed to load library \" + url);\n",
       "      };\n",
       "      console.log(\"Bokeh: injecting script tag for BokehJS library: \", url);\n",
       "      document.getElementsByTagName(\"head\")[0].appendChild(s);\n",
       "    }\n",
       "  };\n",
       "\n",
       "  var js_urls = [\"https://cdn.pydata.org/bokeh/release/bokeh-0.12.5.min.js\", \"https://cdn.pydata.org/bokeh/release/bokeh-widgets-0.12.5.min.js\"];\n",
       "\n",
       "  var inline_js = [\n",
       "    function(Bokeh) {\n",
       "      Bokeh.set_log_level(\"info\");\n",
       "    },\n",
       "    \n",
       "    function(Bokeh) {\n",
       "      \n",
       "    },\n",
       "    function(Bokeh) {\n",
       "      console.log(\"Bokeh: injecting CSS: https://cdn.pydata.org/bokeh/release/bokeh-0.12.5.min.css\");\n",
       "      Bokeh.embed.inject_css(\"https://cdn.pydata.org/bokeh/release/bokeh-0.12.5.min.css\");\n",
       "      console.log(\"Bokeh: injecting CSS: https://cdn.pydata.org/bokeh/release/bokeh-widgets-0.12.5.min.css\");\n",
       "      Bokeh.embed.inject_css(\"https://cdn.pydata.org/bokeh/release/bokeh-widgets-0.12.5.min.css\");\n",
       "    }\n",
       "  ];\n",
       "\n",
       "  function run_inline_js() {\n",
       "    \n",
       "    if ((window.Bokeh !== undefined) || (force === true)) {\n",
       "      for (var i = 0; i < inline_js.length; i++) {\n",
       "        inline_js[i](window.Bokeh);\n",
       "      }} else if (Date.now() < window._bokeh_timeout) {\n",
       "      setTimeout(run_inline_js, 100);\n",
       "    } else if (!window._bokeh_failed_load) {\n",
       "      console.log(\"Bokeh: BokehJS failed to load within specified timeout.\");\n",
       "      window._bokeh_failed_load = true;\n",
       "    } else if (force !== true) {\n",
       "      var cell = $(document.getElementById(\"\")).parents('.cell').data().cell;\n",
       "      cell.output_area.append_execute_result(NB_LOAD_WARNING)\n",
       "    }\n",
       "\n",
       "  }\n",
       "\n",
       "  if (window._bokeh_is_loading === 0) {\n",
       "    console.log(\"Bokeh: BokehJS loaded, going straight to plotting\");\n",
       "    run_inline_js();\n",
       "  } else {\n",
       "    load_libs(js_urls, function() {\n",
       "      console.log(\"Bokeh: BokehJS plotting callback run at\", now());\n",
       "      run_inline_js();\n",
       "    });\n",
       "  }\n",
       "}(this));"
      ]
     },
     "metadata": {},
     "output_type": "display_data"
    }
   ],
   "source": [
    "from mpow import load_data, plotting, regression\n",
    "plotting.output_notebook(hide_banner=True)"
   ]
  },
  {
   "cell_type": "markdown",
   "metadata": {},
   "source": [
    "## Load data"
   ]
  },
  {
   "cell_type": "code",
   "execution_count": 24,
   "metadata": {
    "ExecuteTime": {
     "end_time": "2017-11-29T01:03:46.453477Z",
     "start_time": "2017-11-29T01:03:46.382173Z"
    },
    "collapsed": true
   },
   "outputs": [],
   "source": [
    "data = load_data.norm_daily_data()\n",
    "intraday = load_data.norm_intraday_data()\n",
    "details = load_data.norm_detail_data()"
   ]
  },
  {
   "cell_type": "code",
   "execution_count": 23,
   "metadata": {
    "ExecuteTime": {
     "end_time": "2017-11-29T01:03:21.944095Z",
     "start_time": "2017-11-29T01:03:21.926902Z"
    }
   },
   "outputs": [
    {
     "data": {
      "text/html": [
       "<div>\n",
       "<style>\n",
       "    .dataframe thead tr:only-child th {\n",
       "        text-align: right;\n",
       "    }\n",
       "\n",
       "    .dataframe thead th {\n",
       "        text-align: left;\n",
       "    }\n",
       "\n",
       "    .dataframe tbody tr th {\n",
       "        vertical-align: top;\n",
       "    }\n",
       "</style>\n",
       "<table border=\"1\" class=\"dataframe\">\n",
       "  <thead>\n",
       "    <tr style=\"text-align: right;\">\n",
       "      <th></th>\n",
       "      <th>Patient</th>\n",
       "      <th>DayNum</th>\n",
       "      <th>Intake</th>\n",
       "      <th>PainScore</th>\n",
       "      <th>NumObs</th>\n",
       "      <th>AgeAtAdmit</th>\n",
       "      <th>Gender</th>\n",
       "      <th>ImpairmentGroup</th>\n",
       "      <th>Depression</th>\n",
       "    </tr>\n",
       "  </thead>\n",
       "  <tbody>\n",
       "    <tr>\n",
       "      <th>0</th>\n",
       "      <td>1</td>\n",
       "      <td>1</td>\n",
       "      <td>80.0</td>\n",
       "      <td>29.0</td>\n",
       "      <td>7</td>\n",
       "      <td>32</td>\n",
       "      <td>Female</td>\n",
       "      <td>Spinal_Cord_Dysfunction</td>\n",
       "      <td>0</td>\n",
       "    </tr>\n",
       "    <tr>\n",
       "      <th>1</th>\n",
       "      <td>1</td>\n",
       "      <td>2</td>\n",
       "      <td>60.0</td>\n",
       "      <td>24.0</td>\n",
       "      <td>9</td>\n",
       "      <td>32</td>\n",
       "      <td>Female</td>\n",
       "      <td>Spinal_Cord_Dysfunction</td>\n",
       "      <td>0</td>\n",
       "    </tr>\n",
       "    <tr>\n",
       "      <th>2</th>\n",
       "      <td>1</td>\n",
       "      <td>3</td>\n",
       "      <td>70.0</td>\n",
       "      <td>38.0</td>\n",
       "      <td>11</td>\n",
       "      <td>32</td>\n",
       "      <td>Female</td>\n",
       "      <td>Spinal_Cord_Dysfunction</td>\n",
       "      <td>0</td>\n",
       "    </tr>\n",
       "    <tr>\n",
       "      <th>3</th>\n",
       "      <td>1</td>\n",
       "      <td>4</td>\n",
       "      <td>40.0</td>\n",
       "      <td>23.0</td>\n",
       "      <td>11</td>\n",
       "      <td>32</td>\n",
       "      <td>Female</td>\n",
       "      <td>Spinal_Cord_Dysfunction</td>\n",
       "      <td>0</td>\n",
       "    </tr>\n",
       "    <tr>\n",
       "      <th>4</th>\n",
       "      <td>2</td>\n",
       "      <td>1</td>\n",
       "      <td>75.0</td>\n",
       "      <td>63.0</td>\n",
       "      <td>14</td>\n",
       "      <td>56</td>\n",
       "      <td>Female</td>\n",
       "      <td>Spinal_Cord_Dysfunction</td>\n",
       "      <td>1</td>\n",
       "    </tr>\n",
       "  </tbody>\n",
       "</table>\n",
       "</div>"
      ],
      "text/plain": [
       "   Patient  DayNum  Intake  PainScore  NumObs  AgeAtAdmit  Gender  \\\n",
       "0        1       1    80.0       29.0       7          32  Female   \n",
       "1        1       2    60.0       24.0       9          32  Female   \n",
       "2        1       3    70.0       38.0      11          32  Female   \n",
       "3        1       4    40.0       23.0      11          32  Female   \n",
       "4        2       1    75.0       63.0      14          56  Female   \n",
       "\n",
       "           ImpairmentGroup  Depression  \n",
       "0  Spinal_Cord_Dysfunction           0  \n",
       "1  Spinal_Cord_Dysfunction           0  \n",
       "2  Spinal_Cord_Dysfunction           0  \n",
       "3  Spinal_Cord_Dysfunction           0  \n",
       "4  Spinal_Cord_Dysfunction           1  "
      ]
     },
     "execution_count": 23,
     "metadata": {},
     "output_type": "execute_result"
    }
   ],
   "source": [
    "data.head()"
   ]
  },
  {
   "cell_type": "code",
   "execution_count": 27,
   "metadata": {
    "ExecuteTime": {
     "end_time": "2017-11-29T01:04:26.998553Z",
     "start_time": "2017-11-29T01:04:26.988533Z"
    }
   },
   "outputs": [
    {
     "data": {
      "text/html": [
       "<div>\n",
       "<style>\n",
       "    .dataframe thead tr:only-child th {\n",
       "        text-align: right;\n",
       "    }\n",
       "\n",
       "    .dataframe thead th {\n",
       "        text-align: left;\n",
       "    }\n",
       "\n",
       "    .dataframe tbody tr th {\n",
       "        vertical-align: top;\n",
       "    }\n",
       "</style>\n",
       "<table border=\"1\" class=\"dataframe\">\n",
       "  <thead>\n",
       "    <tr style=\"text-align: right;\">\n",
       "      <th></th>\n",
       "      <th>Patient</th>\n",
       "      <th>AgeAtAdmit</th>\n",
       "      <th>Gender</th>\n",
       "      <th>Depression</th>\n",
       "      <th>ImpairmentGroup</th>\n",
       "    </tr>\n",
       "  </thead>\n",
       "  <tbody>\n",
       "    <tr>\n",
       "      <th>0</th>\n",
       "      <td>1</td>\n",
       "      <td>32</td>\n",
       "      <td>Female</td>\n",
       "      <td>0</td>\n",
       "      <td>Spinal_Cord_Dysfunction</td>\n",
       "    </tr>\n",
       "    <tr>\n",
       "      <th>1</th>\n",
       "      <td>2</td>\n",
       "      <td>56</td>\n",
       "      <td>Female</td>\n",
       "      <td>1</td>\n",
       "      <td>Spinal_Cord_Dysfunction</td>\n",
       "    </tr>\n",
       "    <tr>\n",
       "      <th>2</th>\n",
       "      <td>3</td>\n",
       "      <td>82</td>\n",
       "      <td>Male</td>\n",
       "      <td>0</td>\n",
       "      <td>Stroke</td>\n",
       "    </tr>\n",
       "    <tr>\n",
       "      <th>3</th>\n",
       "      <td>4</td>\n",
       "      <td>92</td>\n",
       "      <td>Male</td>\n",
       "      <td>0</td>\n",
       "      <td>Debility</td>\n",
       "    </tr>\n",
       "    <tr>\n",
       "      <th>4</th>\n",
       "      <td>5</td>\n",
       "      <td>67</td>\n",
       "      <td>Female</td>\n",
       "      <td>1</td>\n",
       "      <td>Orthopaedic_Disorders</td>\n",
       "    </tr>\n",
       "  </tbody>\n",
       "</table>\n",
       "</div>"
      ],
      "text/plain": [
       "   Patient  AgeAtAdmit  Gender  Depression          ImpairmentGroup\n",
       "0        1          32  Female           0  Spinal_Cord_Dysfunction\n",
       "1        2          56  Female           1  Spinal_Cord_Dysfunction\n",
       "2        3          82    Male           0                   Stroke\n",
       "3        4          92    Male           0                 Debility\n",
       "4        5          67  Female           1    Orthopaedic_Disorders"
      ]
     },
     "execution_count": 27,
     "metadata": {},
     "output_type": "execute_result"
    }
   ],
   "source": [
    "details.head()"
   ]
  },
  {
   "cell_type": "markdown",
   "metadata": {},
   "source": [
    "## Explore details"
   ]
  },
  {
   "cell_type": "markdown",
   "metadata": {},
   "source": [
    "### Age"
   ]
  },
  {
   "cell_type": "markdown",
   "metadata": {},
   "source": [
    "Overall Distribution"
   ]
  },
  {
   "cell_type": "code",
   "execution_count": 28,
   "metadata": {
    "ExecuteTime": {
     "end_time": "2017-11-29T01:04:31.809383Z",
     "start_time": "2017-11-29T01:04:31.745689Z"
    }
   },
   "outputs": [
    {
     "data": {
      "text/html": [
       "\n",
       "\n",
       "    <div class=\"bk-root\">\n",
       "        <div class=\"bk-plotdiv\" id=\"c5915c5f-3618-4d59-8ce1-efd55d1c9c72\"></div>\n",
       "    </div>\n",
       "<script type=\"text/javascript\">\n",
       "  \n",
       "  (function(global) {\n",
       "    function now() {\n",
       "      return new Date();\n",
       "    }\n",
       "  \n",
       "    var force = false;\n",
       "  \n",
       "    if (typeof (window._bokeh_onload_callbacks) === \"undefined\" || force === true) {\n",
       "      window._bokeh_onload_callbacks = [];\n",
       "      window._bokeh_is_loading = undefined;\n",
       "    }\n",
       "  \n",
       "  \n",
       "    \n",
       "    if (typeof (window._bokeh_timeout) === \"undefined\" || force === true) {\n",
       "      window._bokeh_timeout = Date.now() + 0;\n",
       "      window._bokeh_failed_load = false;\n",
       "    }\n",
       "  \n",
       "    var NB_LOAD_WARNING = {'data': {'text/html':\n",
       "       \"<div style='background-color: #fdd'>\\n\"+\n",
       "       \"<p>\\n\"+\n",
       "       \"BokehJS does not appear to have successfully loaded. If loading BokehJS from CDN, this \\n\"+\n",
       "       \"may be due to a slow or bad network connection. Possible fixes:\\n\"+\n",
       "       \"</p>\\n\"+\n",
       "       \"<ul>\\n\"+\n",
       "       \"<li>re-rerun `output_notebook()` to attempt to load from CDN again, or</li>\\n\"+\n",
       "       \"<li>use INLINE resources instead, as so:</li>\\n\"+\n",
       "       \"</ul>\\n\"+\n",
       "       \"<code>\\n\"+\n",
       "       \"from bokeh.resources import INLINE\\n\"+\n",
       "       \"output_notebook(resources=INLINE)\\n\"+\n",
       "       \"</code>\\n\"+\n",
       "       \"</div>\"}};\n",
       "  \n",
       "    function display_loaded() {\n",
       "      if (window.Bokeh !== undefined) {\n",
       "        var el = document.getElementById(\"c5915c5f-3618-4d59-8ce1-efd55d1c9c72\");\n",
       "        el.textContent = \"BokehJS \" + Bokeh.version + \" successfully loaded.\";\n",
       "      } else if (Date.now() < window._bokeh_timeout) {\n",
       "        setTimeout(display_loaded, 100)\n",
       "      }\n",
       "    }\n",
       "  \n",
       "    function run_callbacks() {\n",
       "      window._bokeh_onload_callbacks.forEach(function(callback) { callback() });\n",
       "      delete window._bokeh_onload_callbacks\n",
       "      console.info(\"Bokeh: all callbacks have finished\");\n",
       "    }\n",
       "  \n",
       "    function load_libs(js_urls, callback) {\n",
       "      window._bokeh_onload_callbacks.push(callback);\n",
       "      if (window._bokeh_is_loading > 0) {\n",
       "        console.log(\"Bokeh: BokehJS is being loaded, scheduling callback at\", now());\n",
       "        return null;\n",
       "      }\n",
       "      if (js_urls == null || js_urls.length === 0) {\n",
       "        run_callbacks();\n",
       "        return null;\n",
       "      }\n",
       "      console.log(\"Bokeh: BokehJS not loaded, scheduling load and callback at\", now());\n",
       "      window._bokeh_is_loading = js_urls.length;\n",
       "      for (var i = 0; i < js_urls.length; i++) {\n",
       "        var url = js_urls[i];\n",
       "        var s = document.createElement('script');\n",
       "        s.src = url;\n",
       "        s.async = false;\n",
       "        s.onreadystatechange = s.onload = function() {\n",
       "          window._bokeh_is_loading--;\n",
       "          if (window._bokeh_is_loading === 0) {\n",
       "            console.log(\"Bokeh: all BokehJS libraries loaded\");\n",
       "            run_callbacks()\n",
       "          }\n",
       "        };\n",
       "        s.onerror = function() {\n",
       "          console.warn(\"failed to load library \" + url);\n",
       "        };\n",
       "        console.log(\"Bokeh: injecting script tag for BokehJS library: \", url);\n",
       "        document.getElementsByTagName(\"head\")[0].appendChild(s);\n",
       "      }\n",
       "    };var element = document.getElementById(\"c5915c5f-3618-4d59-8ce1-efd55d1c9c72\");\n",
       "    if (element == null) {\n",
       "      console.log(\"Bokeh: ERROR: autoload.js configured with elementid 'c5915c5f-3618-4d59-8ce1-efd55d1c9c72' but no matching script tag was found. \")\n",
       "      return false;\n",
       "    }\n",
       "  \n",
       "    var js_urls = [];\n",
       "  \n",
       "    var inline_js = [\n",
       "      function(Bokeh) {\n",
       "        (function() {\n",
       "          var fn = function() {\n",
       "            var docs_json = {\"60a485d7-9426-49c7-890d-2db9bdb651eb\":{\"roots\":{\"references\":[{\"attributes\":{\"plot\":{\"id\":\"73633f5e-f462-4e64-b3e3-6cdff7e308c5\",\"subtype\":\"Figure\",\"type\":\"Plot\"}},\"id\":\"f9405ed8-372d-4eee-8fc7-dd9cddb27fe3\",\"type\":\"HelpTool\"},{\"attributes\":{\"callback\":null},\"id\":\"3fbe2523-7464-498d-9c0a-5e9356fff8f2\",\"type\":\"DataRange1d\"},{\"attributes\":{},\"id\":\"a5ff383d-c0fb-4aad-b068-475364bf705d\",\"type\":\"ToolEvents\"},{\"attributes\":{\"plot\":{\"id\":\"73633f5e-f462-4e64-b3e3-6cdff7e308c5\",\"subtype\":\"Figure\",\"type\":\"Plot\"},\"ticker\":{\"id\":\"94f34c91-9b4d-4619-856a-bbc8123481ad\",\"type\":\"BasicTicker\"}},\"id\":\"7607ad60-87cd-47ee-a356-6079509720fc\",\"type\":\"Grid\"},{\"attributes\":{\"plot\":{\"id\":\"73633f5e-f462-4e64-b3e3-6cdff7e308c5\",\"subtype\":\"Figure\",\"type\":\"Plot\"}},\"id\":\"af0dd3cd-5a7e-43cc-a2b5-aa9a3f663498\",\"type\":\"ResetTool\"},{\"attributes\":{\"plot\":{\"id\":\"73633f5e-f462-4e64-b3e3-6cdff7e308c5\",\"subtype\":\"Figure\",\"type\":\"Plot\"}},\"id\":\"14a0d180-d098-46cc-8c75-b6842c5c8f7e\",\"type\":\"WheelZoomTool\"},{\"attributes\":{\"plot\":null,\"text\":\"Histogram: AgeAtAdmit\"},\"id\":\"16499a81-c695-4a4e-8abd-5884d2350733\",\"type\":\"Title\"},{\"attributes\":{\"formatter\":{\"id\":\"238561c4-66f1-42f8-9eb6-1491b4292cdc\",\"type\":\"BasicTickFormatter\"},\"plot\":{\"id\":\"73633f5e-f462-4e64-b3e3-6cdff7e308c5\",\"subtype\":\"Figure\",\"type\":\"Plot\"},\"ticker\":{\"id\":\"94f34c91-9b4d-4619-856a-bbc8123481ad\",\"type\":\"BasicTicker\"}},\"id\":\"b0961d11-ada4-4fe7-aaaf-6ffdce11dd64\",\"type\":\"LinearAxis\"},{\"attributes\":{\"callback\":null},\"id\":\"30c9b133-3f3e-49b5-860a-7c17888098fe\",\"type\":\"DataRange1d\"},{\"attributes\":{},\"id\":\"94f34c91-9b4d-4619-856a-bbc8123481ad\",\"type\":\"BasicTicker\"},{\"attributes\":{\"active_drag\":\"auto\",\"active_scroll\":\"auto\",\"active_tap\":\"auto\",\"tools\":[{\"id\":\"6c6a3421-5a83-4619-8ad1-d109103167a8\",\"type\":\"PanTool\"},{\"id\":\"14a0d180-d098-46cc-8c75-b6842c5c8f7e\",\"type\":\"WheelZoomTool\"},{\"id\":\"e6f740d6-19ef-469f-964a-8ad251841c0f\",\"type\":\"BoxZoomTool\"},{\"id\":\"5bba0f34-d4c3-4af2-8d18-34312944663e\",\"type\":\"SaveTool\"},{\"id\":\"af0dd3cd-5a7e-43cc-a2b5-aa9a3f663498\",\"type\":\"ResetTool\"},{\"id\":\"f9405ed8-372d-4eee-8fc7-dd9cddb27fe3\",\"type\":\"HelpTool\"}]},\"id\":\"db0f9936-c32d-4306-a4b7-21f9aeb3d103\",\"type\":\"Toolbar\"},{\"attributes\":{\"line_color\":{\"value\":\"#1f77b4\"},\"x\":{\"field\":\"x\"},\"y\":{\"field\":\"y\"}},\"id\":\"177c2356-9011-4a7c-b829-5f2c491ddde5\",\"type\":\"Line\"},{\"attributes\":{\"line_alpha\":{\"value\":0.1},\"line_color\":{\"value\":\"#1f77b4\"},\"x\":{\"field\":\"x\"},\"y\":{\"field\":\"y\"}},\"id\":\"cbbf21de-e54c-4c0a-b7be-06aceef24639\",\"type\":\"Line\"},{\"attributes\":{\"bottom_units\":\"screen\",\"fill_alpha\":{\"value\":0.5},\"fill_color\":{\"value\":\"lightgrey\"},\"left_units\":\"screen\",\"level\":\"overlay\",\"line_alpha\":{\"value\":1.0},\"line_color\":{\"value\":\"black\"},\"line_dash\":[4,4],\"line_width\":{\"value\":2},\"plot\":null,\"render_mode\":\"css\",\"right_units\":\"screen\",\"top_units\":\"screen\"},\"id\":\"0861a287-d1dd-4aeb-ac9c-2aefa64c7fb6\",\"type\":\"BoxAnnotation\"},{\"attributes\":{\"formatter\":{\"id\":\"b2a55805-6b1c-4c36-959f-2c56f92e2af3\",\"type\":\"BasicTickFormatter\"},\"plot\":{\"id\":\"73633f5e-f462-4e64-b3e3-6cdff7e308c5\",\"subtype\":\"Figure\",\"type\":\"Plot\"},\"ticker\":{\"id\":\"d0c8253a-1d27-4b5b-acbe-76170253bb08\",\"type\":\"BasicTicker\"}},\"id\":\"ad824a06-2ac7-4c9b-ac6c-0bb8448bb71d\",\"type\":\"LinearAxis\"},{\"attributes\":{\"callback\":null,\"column_names\":[\"x\",\"y\"],\"data\":{\"x\":{\"__ndarray__\":\"MzMzMzOzNECamZmZmRk6QAAAAAAAgD9ANDMzMzNzQkBmZmZmZiZFQJqZmZmZ2UdAzszMzMyMSkAAAAAAAEBNQDMzMzMz809AMzMzMzNTUUDNzMzMzKxSQGdmZmZmBlRAAAAAAABgVUCamZmZmblWQDQzMzMzE1hA\",\"dtype\":\"float64\",\"shape\":[15]},\"y\":[3,4,4,3,3,5,6,24,15,32,31,12,8,3,1]}},\"id\":\"49d1e167-7957-4c8b-bc47-ce4947d8e69d\",\"type\":\"ColumnDataSource\"},{\"attributes\":{},\"id\":\"d0c8253a-1d27-4b5b-acbe-76170253bb08\",\"type\":\"BasicTicker\"},{\"attributes\":{},\"id\":\"b2a55805-6b1c-4c36-959f-2c56f92e2af3\",\"type\":\"BasicTickFormatter\"},{\"attributes\":{\"plot\":{\"id\":\"73633f5e-f462-4e64-b3e3-6cdff7e308c5\",\"subtype\":\"Figure\",\"type\":\"Plot\"}},\"id\":\"6c6a3421-5a83-4619-8ad1-d109103167a8\",\"type\":\"PanTool\"},{\"attributes\":{\"below\":[{\"id\":\"b0961d11-ada4-4fe7-aaaf-6ffdce11dd64\",\"type\":\"LinearAxis\"}],\"left\":[{\"id\":\"ad824a06-2ac7-4c9b-ac6c-0bb8448bb71d\",\"type\":\"LinearAxis\"}],\"plot_height\":300,\"renderers\":[{\"id\":\"b0961d11-ada4-4fe7-aaaf-6ffdce11dd64\",\"type\":\"LinearAxis\"},{\"id\":\"7607ad60-87cd-47ee-a356-6079509720fc\",\"type\":\"Grid\"},{\"id\":\"ad824a06-2ac7-4c9b-ac6c-0bb8448bb71d\",\"type\":\"LinearAxis\"},{\"id\":\"994ce5db-b578-40f3-b3b0-ca34f25ba5e1\",\"type\":\"Grid\"},{\"id\":\"0861a287-d1dd-4aeb-ac9c-2aefa64c7fb6\",\"type\":\"BoxAnnotation\"},{\"id\":\"783c626c-0549-4976-977c-f5614d2c2289\",\"type\":\"GlyphRenderer\"}],\"title\":{\"id\":\"16499a81-c695-4a4e-8abd-5884d2350733\",\"type\":\"Title\"},\"tool_events\":{\"id\":\"a5ff383d-c0fb-4aad-b068-475364bf705d\",\"type\":\"ToolEvents\"},\"toolbar\":{\"id\":\"db0f9936-c32d-4306-a4b7-21f9aeb3d103\",\"type\":\"Toolbar\"},\"x_range\":{\"id\":\"3fbe2523-7464-498d-9c0a-5e9356fff8f2\",\"type\":\"DataRange1d\"},\"y_range\":{\"id\":\"30c9b133-3f3e-49b5-860a-7c17888098fe\",\"type\":\"DataRange1d\"}},\"id\":\"73633f5e-f462-4e64-b3e3-6cdff7e308c5\",\"subtype\":\"Figure\",\"type\":\"Plot\"},{\"attributes\":{\"dimension\":1,\"plot\":{\"id\":\"73633f5e-f462-4e64-b3e3-6cdff7e308c5\",\"subtype\":\"Figure\",\"type\":\"Plot\"},\"ticker\":{\"id\":\"d0c8253a-1d27-4b5b-acbe-76170253bb08\",\"type\":\"BasicTicker\"}},\"id\":\"994ce5db-b578-40f3-b3b0-ca34f25ba5e1\",\"type\":\"Grid\"},{\"attributes\":{},\"id\":\"238561c4-66f1-42f8-9eb6-1491b4292cdc\",\"type\":\"BasicTickFormatter\"},{\"attributes\":{\"plot\":{\"id\":\"73633f5e-f462-4e64-b3e3-6cdff7e308c5\",\"subtype\":\"Figure\",\"type\":\"Plot\"}},\"id\":\"5bba0f34-d4c3-4af2-8d18-34312944663e\",\"type\":\"SaveTool\"},{\"attributes\":{\"data_source\":{\"id\":\"49d1e167-7957-4c8b-bc47-ce4947d8e69d\",\"type\":\"ColumnDataSource\"},\"glyph\":{\"id\":\"177c2356-9011-4a7c-b829-5f2c491ddde5\",\"type\":\"Line\"},\"hover_glyph\":null,\"muted_glyph\":null,\"nonselection_glyph\":{\"id\":\"cbbf21de-e54c-4c0a-b7be-06aceef24639\",\"type\":\"Line\"},\"selection_glyph\":null},\"id\":\"783c626c-0549-4976-977c-f5614d2c2289\",\"type\":\"GlyphRenderer\"},{\"attributes\":{\"overlay\":{\"id\":\"0861a287-d1dd-4aeb-ac9c-2aefa64c7fb6\",\"type\":\"BoxAnnotation\"},\"plot\":{\"id\":\"73633f5e-f462-4e64-b3e3-6cdff7e308c5\",\"subtype\":\"Figure\",\"type\":\"Plot\"}},\"id\":\"e6f740d6-19ef-469f-964a-8ad251841c0f\",\"type\":\"BoxZoomTool\"}],\"root_ids\":[\"73633f5e-f462-4e64-b3e3-6cdff7e308c5\"]},\"title\":\"Bokeh Application\",\"version\":\"0.12.5\"}};\n",
       "            var render_items = [{\"docid\":\"60a485d7-9426-49c7-890d-2db9bdb651eb\",\"elementid\":\"c5915c5f-3618-4d59-8ce1-efd55d1c9c72\",\"modelid\":\"73633f5e-f462-4e64-b3e3-6cdff7e308c5\"}];\n",
       "            \n",
       "            Bokeh.embed.embed_items(docs_json, render_items);\n",
       "          };\n",
       "          if (document.readyState != \"loading\") fn();\n",
       "          else document.addEventListener(\"DOMContentLoaded\", fn);\n",
       "        })();\n",
       "      },\n",
       "      function(Bokeh) {\n",
       "      }\n",
       "    ];\n",
       "  \n",
       "    function run_inline_js() {\n",
       "      \n",
       "      if ((window.Bokeh !== undefined) || (force === true)) {\n",
       "        for (var i = 0; i < inline_js.length; i++) {\n",
       "          inline_js[i](window.Bokeh);\n",
       "        }if (force === true) {\n",
       "          display_loaded();\n",
       "        }} else if (Date.now() < window._bokeh_timeout) {\n",
       "        setTimeout(run_inline_js, 100);\n",
       "      } else if (!window._bokeh_failed_load) {\n",
       "        console.log(\"Bokeh: BokehJS failed to load within specified timeout.\");\n",
       "        window._bokeh_failed_load = true;\n",
       "      } else if (force !== true) {\n",
       "        var cell = $(document.getElementById(\"c5915c5f-3618-4d59-8ce1-efd55d1c9c72\")).parents('.cell').data().cell;\n",
       "        cell.output_area.append_execute_result(NB_LOAD_WARNING)\n",
       "      }\n",
       "  \n",
       "    }\n",
       "  \n",
       "    if (window._bokeh_is_loading === 0) {\n",
       "      console.log(\"Bokeh: BokehJS loaded, going straight to plotting\");\n",
       "      run_inline_js();\n",
       "    } else {\n",
       "      load_libs(js_urls, function() {\n",
       "        console.log(\"Bokeh: BokehJS plotting callback run at\", now());\n",
       "        run_inline_js();\n",
       "      });\n",
       "    }\n",
       "  }(this));\n",
       "</script>"
      ]
     },
     "metadata": {},
     "output_type": "display_data"
    }
   ],
   "source": [
    "plotting.show(plotting.histogram(details.AgeAtAdmit, bins=15))"
   ]
  },
  {
   "cell_type": "markdown",
   "metadata": {},
   "source": [
    "Conditional on gender"
   ]
  },
  {
   "cell_type": "code",
   "execution_count": 29,
   "metadata": {
    "ExecuteTime": {
     "end_time": "2017-11-29T01:04:42.859742Z",
     "start_time": "2017-11-29T01:04:42.843126Z"
    }
   },
   "outputs": [
    {
     "data": {
      "text/html": [
       "<div>\n",
       "<style>\n",
       "    .dataframe thead tr:only-child th {\n",
       "        text-align: right;\n",
       "    }\n",
       "\n",
       "    .dataframe thead th {\n",
       "        text-align: left;\n",
       "    }\n",
       "\n",
       "    .dataframe tbody tr th {\n",
       "        vertical-align: top;\n",
       "    }\n",
       "</style>\n",
       "<table border=\"1\" class=\"dataframe\">\n",
       "  <thead>\n",
       "    <tr style=\"text-align: right;\">\n",
       "      <th></th>\n",
       "      <th>AgeAtAdmit</th>\n",
       "    </tr>\n",
       "    <tr>\n",
       "      <th>Gender</th>\n",
       "      <th></th>\n",
       "    </tr>\n",
       "  </thead>\n",
       "  <tbody>\n",
       "    <tr>\n",
       "      <th>Female</th>\n",
       "      <td>68</td>\n",
       "    </tr>\n",
       "    <tr>\n",
       "      <th>Male</th>\n",
       "      <td>67</td>\n",
       "    </tr>\n",
       "  </tbody>\n",
       "</table>\n",
       "</div>"
      ],
      "text/plain": [
       "        AgeAtAdmit\n",
       "Gender            \n",
       "Female          68\n",
       "Male            67"
      ]
     },
     "execution_count": 29,
     "metadata": {},
     "output_type": "execute_result"
    }
   ],
   "source": [
    "details[['Gender', 'AgeAtAdmit']].groupby('Gender').median()"
   ]
  },
  {
   "cell_type": "markdown",
   "metadata": {},
   "source": [
    "Conditional on depression"
   ]
  },
  {
   "cell_type": "code",
   "execution_count": 30,
   "metadata": {
    "ExecuteTime": {
     "end_time": "2017-11-29T01:04:50.669250Z",
     "start_time": "2017-11-29T01:04:50.659256Z"
    }
   },
   "outputs": [
    {
     "data": {
      "text/html": [
       "<div>\n",
       "<style>\n",
       "    .dataframe thead tr:only-child th {\n",
       "        text-align: right;\n",
       "    }\n",
       "\n",
       "    .dataframe thead th {\n",
       "        text-align: left;\n",
       "    }\n",
       "\n",
       "    .dataframe tbody tr th {\n",
       "        vertical-align: top;\n",
       "    }\n",
       "</style>\n",
       "<table border=\"1\" class=\"dataframe\">\n",
       "  <thead>\n",
       "    <tr style=\"text-align: right;\">\n",
       "      <th></th>\n",
       "      <th>AgeAtAdmit</th>\n",
       "    </tr>\n",
       "    <tr>\n",
       "      <th>Depression</th>\n",
       "      <th></th>\n",
       "    </tr>\n",
       "  </thead>\n",
       "  <tbody>\n",
       "    <tr>\n",
       "      <th>0</th>\n",
       "      <td>68</td>\n",
       "    </tr>\n",
       "    <tr>\n",
       "      <th>1</th>\n",
       "      <td>67</td>\n",
       "    </tr>\n",
       "  </tbody>\n",
       "</table>\n",
       "</div>"
      ],
      "text/plain": [
       "            AgeAtAdmit\n",
       "Depression            \n",
       "0                   68\n",
       "1                   67"
      ]
     },
     "execution_count": 30,
     "metadata": {},
     "output_type": "execute_result"
    }
   ],
   "source": [
    "details[['Depression', 'AgeAtAdmit']].groupby('Depression').median()"
   ]
  },
  {
   "cell_type": "markdown",
   "metadata": {},
   "source": [
    "Conditional on impairment"
   ]
  },
  {
   "cell_type": "code",
   "execution_count": 31,
   "metadata": {
    "ExecuteTime": {
     "end_time": "2017-11-29T01:05:01.852334Z",
     "start_time": "2017-11-29T01:05:01.842839Z"
    }
   },
   "outputs": [
    {
     "data": {
      "text/html": [
       "<div>\n",
       "<style>\n",
       "    .dataframe thead tr:only-child th {\n",
       "        text-align: right;\n",
       "    }\n",
       "\n",
       "    .dataframe thead th {\n",
       "        text-align: left;\n",
       "    }\n",
       "\n",
       "    .dataframe tbody tr th {\n",
       "        vertical-align: top;\n",
       "    }\n",
       "</style>\n",
       "<table border=\"1\" class=\"dataframe\">\n",
       "  <thead>\n",
       "    <tr style=\"text-align: right;\">\n",
       "      <th></th>\n",
       "      <th>AgeAtAdmit</th>\n",
       "    </tr>\n",
       "    <tr>\n",
       "      <th>ImpairmentGroup</th>\n",
       "      <th></th>\n",
       "    </tr>\n",
       "  </thead>\n",
       "  <tbody>\n",
       "    <tr>\n",
       "      <th>Congenital_Deformities</th>\n",
       "      <td>25.0</td>\n",
       "    </tr>\n",
       "    <tr>\n",
       "      <th>Amputations</th>\n",
       "      <td>58.0</td>\n",
       "    </tr>\n",
       "    <tr>\n",
       "      <th>Neurologic_conditions</th>\n",
       "      <td>58.5</td>\n",
       "    </tr>\n",
       "    <tr>\n",
       "      <th>Pulmonary_Disorders</th>\n",
       "      <td>59.0</td>\n",
       "    </tr>\n",
       "    <tr>\n",
       "      <th>Burns</th>\n",
       "      <td>60.0</td>\n",
       "    </tr>\n",
       "    <tr>\n",
       "      <th>Brain_Dysfunction</th>\n",
       "      <td>60.5</td>\n",
       "    </tr>\n",
       "    <tr>\n",
       "      <th>Neuromuscular_disorders</th>\n",
       "      <td>64.0</td>\n",
       "    </tr>\n",
       "    <tr>\n",
       "      <th>Stroke</th>\n",
       "      <td>65.0</td>\n",
       "    </tr>\n",
       "    <tr>\n",
       "      <th>Debility</th>\n",
       "      <td>67.0</td>\n",
       "    </tr>\n",
       "    <tr>\n",
       "      <th>Cardiac</th>\n",
       "      <td>68.0</td>\n",
       "    </tr>\n",
       "    <tr>\n",
       "      <th>Spinal_Cord_Dysfunction</th>\n",
       "      <td>68.0</td>\n",
       "    </tr>\n",
       "    <tr>\n",
       "      <th>Orthopaedic_Disorders</th>\n",
       "      <td>72.0</td>\n",
       "    </tr>\n",
       "    <tr>\n",
       "      <th>Major_Multiple_Trauma</th>\n",
       "      <td>72.5</td>\n",
       "    </tr>\n",
       "  </tbody>\n",
       "</table>\n",
       "</div>"
      ],
      "text/plain": [
       "                         AgeAtAdmit\n",
       "ImpairmentGroup                    \n",
       "Congenital_Deformities         25.0\n",
       "Amputations                    58.0\n",
       "Neurologic_conditions          58.5\n",
       "Pulmonary_Disorders            59.0\n",
       "Burns                          60.0\n",
       "Brain_Dysfunction              60.5\n",
       "Neuromuscular_disorders        64.0\n",
       "Stroke                         65.0\n",
       "Debility                       67.0\n",
       "Cardiac                        68.0\n",
       "Spinal_Cord_Dysfunction        68.0\n",
       "Orthopaedic_Disorders          72.0\n",
       "Major_Multiple_Trauma          72.5"
      ]
     },
     "execution_count": 31,
     "metadata": {},
     "output_type": "execute_result"
    }
   ],
   "source": [
    "details[['ImpairmentGroup', 'AgeAtAdmit']].groupby('ImpairmentGroup').median().sort_values('AgeAtAdmit')"
   ]
  },
  {
   "cell_type": "markdown",
   "metadata": {},
   "source": [
    "### Impairment"
   ]
  },
  {
   "cell_type": "code",
   "execution_count": 23,
   "metadata": {
    "ExecuteTime": {
     "end_time": "2017-11-23T03:51:13.311373Z",
     "start_time": "2017-11-23T03:51:13.303836Z"
    }
   },
   "outputs": [
    {
     "data": {
      "text/plain": [
       "Orthopaedic_Disorders      33\n",
       "Spinal_Cord_Dysfunction    26\n",
       "Stroke                     13\n",
       "Debility                    5\n",
       "Amputations                 5\n",
       "Cardiac                     4\n",
       "Neuromuscular_disorders     4\n",
       "Pulmonary_Disorders         3\n",
       "Neurologic_conditions       3\n",
       "Major_Multiple_Trauma       2\n",
       "Burns                       1\n",
       "Congenital_Deformities      1\n",
       "Brain_Dysfunction           1\n",
       "Name: ImpairmentGroup, dtype: int64"
      ]
     },
     "execution_count": 23,
     "metadata": {},
     "output_type": "execute_result"
    }
   ],
   "source": [
    "details.ImpairmentGroup.value_counts()"
   ]
  },
  {
   "cell_type": "markdown",
   "metadata": {},
   "source": [
    "## Depression Gender Interaction"
   ]
  },
  {
   "cell_type": "markdown",
   "metadata": {},
   "source": [
    "Model: $$\\LARGE{s_{t,i} \\sim \\beta_{0} + \\beta_{1}p_{t,i} + \\alpha^{df} + \\alpha^{nf} + \\alpha^{dm} + \\alpha^{nm} + \\epsilon_{t,i}}$$"
   ]
  },
  {
   "cell_type": "markdown",
   "metadata": {},
   "source": [
    "Sufficiency?"
   ]
  },
  {
   "cell_type": "code",
   "execution_count": 34,
   "metadata": {
    "ExecuteTime": {
     "end_time": "2017-11-29T01:06:19.531365Z",
     "start_time": "2017-11-29T01:06:19.519200Z"
    }
   },
   "outputs": [
    {
     "data": {
      "text/plain": [
       "MaleNon    55\n",
       "FemNon     46\n",
       "FemDep     44\n",
       "MaleDep     9\n",
       "Name: DepGenInter, dtype: int64"
      ]
     },
     "execution_count": 34,
     "metadata": {},
     "output_type": "execute_result"
    }
   ],
   "source": [
    "dgi_cats = {2:'FemNon',3:'MaleNon',4:'FemDep',6:'MaleDep'}\n",
    "dgi_counts = (((details.Depression + 1) * ((details.Gender=='Male').astype(int) + 2))\n",
    "            .to_frame('DepGenInter').applymap(dgi_cats.get))\n",
    "dgi_counts.DepGenInter.value_counts()"
   ]
  },
  {
   "cell_type": "code",
   "execution_count": 35,
   "metadata": {
    "ExecuteTime": {
     "end_time": "2017-11-29T01:07:12.047530Z",
     "start_time": "2017-11-29T01:07:12.032317Z"
    },
    "collapsed": true
   },
   "outputs": [],
   "source": [
    "dgi = data.copy()\n",
    "dgi['FemDep'] = ((dgi.Depression==1)&(dgi.Gender=='Female')).astype(int)\n",
    "dgi['MaleDep'] = ((dgi.Depression==1)&(dgi.Gender=='Male')).astype(int)\n",
    "dgi['FemNon'] = ((dgi.Depression==0)&(dgi.Gender=='Female')).astype(int)\n",
    "dgi['MaleNon'] = ((dgi.Depression==0)&(dgi.Gender=='Male')).astype(int)"
   ]
  },
  {
   "cell_type": "code",
   "execution_count": 57,
   "metadata": {
    "ExecuteTime": {
     "end_time": "2017-11-29T01:29:21.718652Z",
     "start_time": "2017-11-29T01:29:21.714838Z"
    }
   },
   "outputs": [],
   "source": [
    "dgi['MPS'] = dgi['PainScore'] / dgi['NumObs']"
   ]
  },
  {
   "cell_type": "code",
   "execution_count": 58,
   "metadata": {
    "ExecuteTime": {
     "end_time": "2017-11-29T01:29:23.880253Z",
     "start_time": "2017-11-29T01:29:23.856789Z"
    },
    "scrolled": false
   },
   "outputs": [
    {
     "data": {
      "text/html": [
       "<table class=\"simpletable\">\n",
       "<caption>OLS Regression Results</caption>\n",
       "<tr>\n",
       "  <th>Dep. Variable:</th>         <td>Intake</td>      <th>  R-squared:         </th> <td>   0.257</td> \n",
       "</tr>\n",
       "<tr>\n",
       "  <th>Model:</th>                   <td>OLS</td>       <th>  Adj. R-squared:    </th> <td>   0.255</td> \n",
       "</tr>\n",
       "<tr>\n",
       "  <th>Method:</th>             <td>Least Squares</td>  <th>  F-statistic:       </th> <td>   133.4</td> \n",
       "</tr>\n",
       "<tr>\n",
       "  <th>Date:</th>             <td>Tue, 28 Nov 2017</td> <th>  Prob (F-statistic):</th> <td>5.45e-98</td> \n",
       "</tr>\n",
       "<tr>\n",
       "  <th>Time:</th>                 <td>19:29:23</td>     <th>  Log-Likelihood:    </th> <td> -7376.4</td> \n",
       "</tr>\n",
       "<tr>\n",
       "  <th>No. Observations:</th>      <td>  1551</td>      <th>  AIC:               </th> <td>1.476e+04</td>\n",
       "</tr>\n",
       "<tr>\n",
       "  <th>Df Residuals:</th>          <td>  1546</td>      <th>  BIC:               </th> <td>1.479e+04</td>\n",
       "</tr>\n",
       "<tr>\n",
       "  <th>Df Model:</th>              <td>     4</td>      <th>                     </th>     <td> </td>    \n",
       "</tr>\n",
       "<tr>\n",
       "  <th>Covariance Type:</th>      <td>nonrobust</td>    <th>                     </th>     <td> </td>    \n",
       "</tr>\n",
       "</table>\n",
       "<table class=\"simpletable\">\n",
       "<tr>\n",
       "     <td></td>        <th>coef</th>     <th>std err</th>      <th>t</th>      <th>P>|t|</th>  <th>[0.025</th>    <th>0.975]</th>  \n",
       "</tr>\n",
       "<tr>\n",
       "  <th>const</th>   <td>    7.5244</td> <td>    1.099</td> <td>    6.849</td> <td> 0.000</td> <td>    5.369</td> <td>    9.680</td>\n",
       "</tr>\n",
       "<tr>\n",
       "  <th>MPS</th>     <td>    7.8207</td> <td>    0.380</td> <td>   20.587</td> <td> 0.000</td> <td>    7.076</td> <td>    8.566</td>\n",
       "</tr>\n",
       "<tr>\n",
       "  <th>FemDep</th>  <td>   12.2337</td> <td>    1.316</td> <td>    9.295</td> <td> 0.000</td> <td>    9.652</td> <td>   14.815</td>\n",
       "</tr>\n",
       "<tr>\n",
       "  <th>MaleDep</th> <td>   -1.6211</td> <td>    2.505</td> <td>   -0.647</td> <td> 0.518</td> <td>   -6.534</td> <td>    3.292</td>\n",
       "</tr>\n",
       "<tr>\n",
       "  <th>FemNon</th>  <td>    0.1522</td> <td>    1.334</td> <td>    0.114</td> <td> 0.909</td> <td>   -2.464</td> <td>    2.768</td>\n",
       "</tr>\n",
       "<tr>\n",
       "  <th>MaleNon</th> <td>   -3.2404</td> <td>    1.158</td> <td>   -2.798</td> <td> 0.005</td> <td>   -5.512</td> <td>   -0.968</td>\n",
       "</tr>\n",
       "</table>\n",
       "<table class=\"simpletable\">\n",
       "<tr>\n",
       "  <th>Omnibus:</th>       <td>795.556</td> <th>  Durbin-Watson:     </th> <td>   0.489</td>\n",
       "</tr>\n",
       "<tr>\n",
       "  <th>Prob(Omnibus):</th> <td> 0.000</td>  <th>  Jarque-Bera (JB):  </th> <td>6508.123</td>\n",
       "</tr>\n",
       "<tr>\n",
       "  <th>Skew:</th>          <td> 2.258</td>  <th>  Prob(JB):          </th> <td>    0.00</td>\n",
       "</tr>\n",
       "<tr>\n",
       "  <th>Kurtosis:</th>      <td>11.962</td>  <th>  Cond. No.          </th> <td>2.54e+15</td>\n",
       "</tr>\n",
       "</table>"
      ],
      "text/plain": [
       "<class 'statsmodels.iolib.summary.Summary'>\n",
       "\"\"\"\n",
       "                            OLS Regression Results                            \n",
       "==============================================================================\n",
       "Dep. Variable:                 Intake   R-squared:                       0.257\n",
       "Model:                            OLS   Adj. R-squared:                  0.255\n",
       "Method:                 Least Squares   F-statistic:                     133.4\n",
       "Date:                Tue, 28 Nov 2017   Prob (F-statistic):           5.45e-98\n",
       "Time:                        19:29:23   Log-Likelihood:                -7376.4\n",
       "No. Observations:                1551   AIC:                         1.476e+04\n",
       "Df Residuals:                    1546   BIC:                         1.479e+04\n",
       "Df Model:                           4                                         \n",
       "Covariance Type:            nonrobust                                         \n",
       "==============================================================================\n",
       "                 coef    std err          t      P>|t|      [0.025      0.975]\n",
       "------------------------------------------------------------------------------\n",
       "const          7.5244      1.099      6.849      0.000       5.369       9.680\n",
       "MPS            7.8207      0.380     20.587      0.000       7.076       8.566\n",
       "FemDep        12.2337      1.316      9.295      0.000       9.652      14.815\n",
       "MaleDep       -1.6211      2.505     -0.647      0.518      -6.534       3.292\n",
       "FemNon         0.1522      1.334      0.114      0.909      -2.464       2.768\n",
       "MaleNon       -3.2404      1.158     -2.798      0.005      -5.512      -0.968\n",
       "==============================================================================\n",
       "Omnibus:                      795.556   Durbin-Watson:                   0.489\n",
       "Prob(Omnibus):                  0.000   Jarque-Bera (JB):             6508.123\n",
       "Skew:                           2.258   Prob(JB):                         0.00\n",
       "Kurtosis:                      11.962   Cond. No.                     2.54e+15\n",
       "==============================================================================\n",
       "\n",
       "Warnings:\n",
       "[1] Standard Errors assume that the covariance matrix of the errors is correctly specified.\n",
       "[2] The smallest eigenvalue is 2.58e-27. This might indicate that there are\n",
       "strong multicollinearity problems or that the design matrix is singular.\n",
       "\"\"\""
      ]
     },
     "execution_count": 58,
     "metadata": {},
     "output_type": "execute_result"
    }
   ],
   "source": [
    "dgi_model = regression.ols(dgi.dropna(), ['MPS', 'FemDep', 'MaleDep', 'FemNon', 'MaleNon'], 'Intake')\n",
    "dgi_model.summary()"
   ]
  },
  {
   "cell_type": "code",
   "execution_count": 62,
   "metadata": {
    "ExecuteTime": {
     "end_time": "2017-11-29T01:29:56.760616Z",
     "start_time": "2017-11-29T01:29:56.752940Z"
    }
   },
   "outputs": [
    {
     "name": "stdout",
     "output_type": "stream",
     "text": [
      "const:\t7.524\t(5.371, 9.678)\n",
      "MPS:\t7.821\t(7.076, 8.565)\n",
      "FemDe:\t12.234\t(9.654, 14.813)\n",
      "MaleD:\t-1.621\t(-6.530, 3.288)\n",
      "FemNo:\t0.152\t(-2.462, 2.766)\n",
      "MaleN:\t-3.240\t(-5.511, -0.970)\n"
     ]
    }
   ],
   "source": [
    "bse = dict(dgi_model.bse)\n",
    "for param, coeff in dict(dgi_model.params).items():\n",
    "    print('{}:\\t{:.3f}\\t({:.3f}, {:.3f})'.format(param[:5], coeff, coeff - 1.96*bse[param], coeff + 1.96*bse[param]))"
   ]
  },
  {
   "cell_type": "code",
   "execution_count": 43,
   "metadata": {
    "ExecuteTime": {
     "end_time": "2017-11-29T01:14:04.407184Z",
     "start_time": "2017-11-29T01:14:04.346210Z"
    },
    "collapsed": true
   },
   "outputs": [],
   "source": [
    "tmp = dgi.copy()\n",
    "tmp = tmp[['MeanPainScore', 'Intake', 'Gender', 'Depression']]\n",
    "tmp['Gender'] = (tmp['Gender']=='Male').astype(int) + 1\n",
    "tmp['Depression'] = tmp['Depression'] + 2\n",
    "tmp['DepGenInteraction'] = (tmp['Depression'] * tmp['Gender']).apply({2:'FemNon',3:'FemDep',4:'MaleNon',6:'MaleDep'}.get)"
   ]
  },
  {
   "cell_type": "code",
   "execution_count": 46,
   "metadata": {
    "ExecuteTime": {
     "end_time": "2017-11-29T01:15:18.549876Z",
     "start_time": "2017-11-29T01:15:17.855089Z"
    }
   },
   "outputs": [
    {
     "data": {
      "image/png": "[encoded data removed]",
      "text/plain": [
       "<IPython.core.display.Image object>"
      ]
     },
     "metadata": {},
     "output_type": "display_data"
    }
   ],
   "source": [
    "image(gg2.ggplot(tmp[['MeanPainScore', 'Intake', 'DepGenInteraction']]) + \n",
    "      gg2.aes_string(x='MeanPainScore', y='Intake', color='DepGenInteraction') + \n",
    "      gg2.geom_point() + gg2.stat_smooth(method='lm'))"
   ]
  },
  {
   "cell_type": "code",
   "execution_count": null,
   "metadata": {
    "collapsed": true
   },
   "outputs": [],
   "source": []
  },
  {
   "cell_type": "code",
   "execution_count": null,
   "metadata": {
    "collapsed": true
   },
   "outputs": [],
   "source": []
  },
  {
   "cell_type": "code",
   "execution_count": null,
   "metadata": {
    "collapsed": true
   },
   "outputs": [],
   "source": []
  },
  {
   "cell_type": "code",
   "execution_count": null,
   "metadata": {
    "collapsed": true
   },
   "outputs": [],
   "source": []
  },
  {
   "cell_type": "code",
   "execution_count": null,
   "metadata": {
    "collapsed": true
   },
   "outputs": [],
   "source": []
  },
  {
   "cell_type": "code",
   "execution_count": null,
   "metadata": {
    "collapsed": true
   },
   "outputs": [],
   "source": []
  }
 ],
 "metadata": {
  "kernelspec": {
   "display_name": "Python 3",
   "language": "python",
   "name": "python3"
  },
  "language_info": {
   "codemirror_mode": {
    "name": "ipython",
    "version": 3
   },
   "file_extension": ".py",
   "mimetype": "text/x-python",
   "name": "python",
   "nbconvert_exporter": "python",
   "pygments_lexer": "ipython3",
   "version": "3.6.1"
  }
 },
 "nbformat": 4,
 "nbformat_minor": 2
}

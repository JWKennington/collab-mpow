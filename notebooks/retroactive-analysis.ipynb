{
 "cells": [
  {
   "cell_type": "markdown",
   "metadata": {},
   "source": [
    "# Retroactive Data Analysis"
   ]
  },
  {
   "cell_type": "markdown",
   "metadata": {},
   "source": [
    "## Imports"
   ]
  },
  {
   "cell_type": "code",
   "execution_count": 3,
   "metadata": {
    "ExecuteTime": {
     "end_time": "2017-11-23T03:43:58.948699Z",
     "start_time": "2017-11-23T03:43:58.944619Z"
    }
   },
   "outputs": [],
   "source": [
    "import os\n",
    "import pandas\n",
    "import statsmodels.api as sm\n",
    "import sys\n",
    "sys.path.append(os.path.dirname(os.getcwd()))"
   ]
  },
  {
   "cell_type": "code",
   "execution_count": 41,
   "metadata": {
    "ExecuteTime": {
     "end_time": "2017-11-23T04:07:09.997234Z",
     "start_time": "2017-11-23T04:07:09.988315Z"
    }
   },
   "outputs": [
    {
     "data": {
      "text/html": []
     },
     "metadata": {},
     "output_type": "display_data"
    },
    {
     "data": {
      "application/javascript": [
       "\n",
       "(function(global) {\n",
       "  function now() {\n",
       "    return new Date();\n",
       "  }\n",
       "\n",
       "  var force = true;\n",
       "\n",
       "  if (typeof (window._bokeh_onload_callbacks) === \"undefined\" || force === true) {\n",
       "    window._bokeh_onload_callbacks = [];\n",
       "    window._bokeh_is_loading = undefined;\n",
       "  }\n",
       "\n",
       "\n",
       "  \n",
       "  if (typeof (window._bokeh_timeout) === \"undefined\" || force === true) {\n",
       "    window._bokeh_timeout = Date.now() + 5000;\n",
       "    window._bokeh_failed_load = false;\n",
       "  }\n",
       "\n",
       "  var NB_LOAD_WARNING = {'data': {'text/html':\n",
       "     \"<div style='background-color: #fdd'>\\n\"+\n",
       "     \"<p>\\n\"+\n",
       "     \"BokehJS does not appear to have successfully loaded. If loading BokehJS from CDN, this \\n\"+\n",
       "     \"may be due to a slow or bad network connection. Possible fixes:\\n\"+\n",
       "     \"</p>\\n\"+\n",
       "     \"<ul>\\n\"+\n",
       "     \"<li>re-rerun `output_notebook()` to attempt to load from CDN again, or</li>\\n\"+\n",
       "     \"<li>use INLINE resources instead, as so:</li>\\n\"+\n",
       "     \"</ul>\\n\"+\n",
       "     \"<code>\\n\"+\n",
       "     \"from bokeh.resources import INLINE\\n\"+\n",
       "     \"output_notebook(resources=INLINE)\\n\"+\n",
       "     \"</code>\\n\"+\n",
       "     \"</div>\"}};\n",
       "\n",
       "  function display_loaded() {\n",
       "    if (window.Bokeh !== undefined) {\n",
       "      var el = document.getElementById(\"\");\n",
       "      el.textContent = \"BokehJS \" + Bokeh.version + \" successfully loaded.\";\n",
       "    } else if (Date.now() < window._bokeh_timeout) {\n",
       "      setTimeout(display_loaded, 100)\n",
       "    }\n",
       "  }\n",
       "\n",
       "  function run_callbacks() {\n",
       "    window._bokeh_onload_callbacks.forEach(function(callback) { callback() });\n",
       "    delete window._bokeh_onload_callbacks\n",
       "    console.info(\"Bokeh: all callbacks have finished\");\n",
       "  }\n",
       "\n",
       "  function load_libs(js_urls, callback) {\n",
       "    window._bokeh_onload_callbacks.push(callback);\n",
       "    if (window._bokeh_is_loading > 0) {\n",
       "      console.log(\"Bokeh: BokehJS is being loaded, scheduling callback at\", now());\n",
       "      return null;\n",
       "    }\n",
       "    if (js_urls == null || js_urls.length === 0) {\n",
       "      run_callbacks();\n",
       "      return null;\n",
       "    }\n",
       "    console.log(\"Bokeh: BokehJS not loaded, scheduling load and callback at\", now());\n",
       "    window._bokeh_is_loading = js_urls.length;\n",
       "    for (var i = 0; i < js_urls.length; i++) {\n",
       "      var url = js_urls[i];\n",
       "      var s = document.createElement('script');\n",
       "      s.src = url;\n",
       "      s.async = false;\n",
       "      s.onreadystatechange = s.onload = function() {\n",
       "        window._bokeh_is_loading--;\n",
       "        if (window._bokeh_is_loading === 0) {\n",
       "          console.log(\"Bokeh: all BokehJS libraries loaded\");\n",
       "          run_callbacks()\n",
       "        }\n",
       "      };\n",
       "      s.onerror = function() {\n",
       "        console.warn(\"failed to load library \" + url);\n",
       "      };\n",
       "      console.log(\"Bokeh: injecting script tag for BokehJS library: \", url);\n",
       "      document.getElementsByTagName(\"head\")[0].appendChild(s);\n",
       "    }\n",
       "  };\n",
       "\n",
       "  var js_urls = [\"https://cdn.pydata.org/bokeh/release/bokeh-0.12.5.min.js\", \"https://cdn.pydata.org/bokeh/release/bokeh-widgets-0.12.5.min.js\"];\n",
       "\n",
       "  var inline_js = [\n",
       "    function(Bokeh) {\n",
       "      Bokeh.set_log_level(\"info\");\n",
       "    },\n",
       "    \n",
       "    function(Bokeh) {\n",
       "      \n",
       "    },\n",
       "    function(Bokeh) {\n",
       "      console.log(\"Bokeh: injecting CSS: https://cdn.pydata.org/bokeh/release/bokeh-0.12.5.min.css\");\n",
       "      Bokeh.embed.inject_css(\"https://cdn.pydata.org/bokeh/release/bokeh-0.12.5.min.css\");\n",
       "      console.log(\"Bokeh: injecting CSS: https://cdn.pydata.org/bokeh/release/bokeh-widgets-0.12.5.min.css\");\n",
       "      Bokeh.embed.inject_css(\"https://cdn.pydata.org/bokeh/release/bokeh-widgets-0.12.5.min.css\");\n",
       "    }\n",
       "  ];\n",
       "\n",
       "  function run_inline_js() {\n",
       "    \n",
       "    if ((window.Bokeh !== undefined) || (force === true)) {\n",
       "      for (var i = 0; i < inline_js.length; i++) {\n",
       "        inline_js[i](window.Bokeh);\n",
       "      }} else if (Date.now() < window._bokeh_timeout) {\n",
       "      setTimeout(run_inline_js, 100);\n",
       "    } else if (!window._bokeh_failed_load) {\n",
       "      console.log(\"Bokeh: BokehJS failed to load within specified timeout.\");\n",
       "      window._bokeh_failed_load = true;\n",
       "    } else if (force !== true) {\n",
       "      var cell = $(document.getElementById(\"\")).parents('.cell').data().cell;\n",
       "      cell.output_area.append_execute_result(NB_LOAD_WARNING)\n",
       "    }\n",
       "\n",
       "  }\n",
       "\n",
       "  if (window._bokeh_is_loading === 0) {\n",
       "    console.log(\"Bokeh: BokehJS loaded, going straight to plotting\");\n",
       "    run_inline_js();\n",
       "  } else {\n",
       "    load_libs(js_urls, function() {\n",
       "      console.log(\"Bokeh: BokehJS plotting callback run at\", now());\n",
       "      run_inline_js();\n",
       "    });\n",
       "  }\n",
       "}(this));"
      ]
     },
     "metadata": {},
     "output_type": "display_data"
    }
   ],
   "source": [
    "from mpow import load_data, plotting, regression\n",
    "plotting.output_notebook(hide_banner=True)"
   ]
  },
  {
   "cell_type": "markdown",
   "metadata": {},
   "source": [
    "## Load data"
   ]
  },
  {
   "cell_type": "code",
   "execution_count": 5,
   "metadata": {
    "ExecuteTime": {
     "end_time": "2017-11-23T03:44:00.690758Z",
     "start_time": "2017-11-23T03:44:00.608958Z"
    },
    "collapsed": true
   },
   "outputs": [],
   "source": [
    "data = load_data.norm_daily_data()\n",
    "details = load_data.norm_detail_data()"
   ]
  },
  {
   "cell_type": "code",
   "execution_count": 6,
   "metadata": {
    "ExecuteTime": {
     "end_time": "2017-11-23T03:44:00.925246Z",
     "start_time": "2017-11-23T03:44:00.899432Z"
    }
   },
   "outputs": [
    {
     "data": {
      "text/html": [
       "<div>\n",
       "<style>\n",
       "    .dataframe thead tr:only-child th {\n",
       "        text-align: right;\n",
       "    }\n",
       "\n",
       "    .dataframe thead th {\n",
       "        text-align: left;\n",
       "    }\n",
       "\n",
       "    .dataframe tbody tr th {\n",
       "        vertical-align: top;\n",
       "    }\n",
       "</style>\n",
       "<table border=\"1\" class=\"dataframe\">\n",
       "  <thead>\n",
       "    <tr style=\"text-align: right;\">\n",
       "      <th></th>\n",
       "      <th>Patient</th>\n",
       "      <th>DayNum</th>\n",
       "      <th>Intake</th>\n",
       "      <th>PainScore</th>\n",
       "      <th>NumObs</th>\n",
       "      <th>AgeAtAdmit</th>\n",
       "      <th>Gender</th>\n",
       "      <th>ImpairmentGroup</th>\n",
       "      <th>Depression</th>\n",
       "    </tr>\n",
       "  </thead>\n",
       "  <tbody>\n",
       "    <tr>\n",
       "      <th>0</th>\n",
       "      <td>1</td>\n",
       "      <td>1</td>\n",
       "      <td>80.0</td>\n",
       "      <td>29.0</td>\n",
       "      <td>7</td>\n",
       "      <td>32.0</td>\n",
       "      <td>Female</td>\n",
       "      <td>Spinal_Cord_Dysfunction</td>\n",
       "      <td>0.0</td>\n",
       "    </tr>\n",
       "    <tr>\n",
       "      <th>1</th>\n",
       "      <td>1</td>\n",
       "      <td>2</td>\n",
       "      <td>60.0</td>\n",
       "      <td>24.0</td>\n",
       "      <td>9</td>\n",
       "      <td>32.0</td>\n",
       "      <td>Female</td>\n",
       "      <td>Spinal_Cord_Dysfunction</td>\n",
       "      <td>0.0</td>\n",
       "    </tr>\n",
       "    <tr>\n",
       "      <th>2</th>\n",
       "      <td>1</td>\n",
       "      <td>3</td>\n",
       "      <td>70.0</td>\n",
       "      <td>38.0</td>\n",
       "      <td>11</td>\n",
       "      <td>32.0</td>\n",
       "      <td>Female</td>\n",
       "      <td>Spinal_Cord_Dysfunction</td>\n",
       "      <td>0.0</td>\n",
       "    </tr>\n",
       "    <tr>\n",
       "      <th>3</th>\n",
       "      <td>1</td>\n",
       "      <td>4</td>\n",
       "      <td>40.0</td>\n",
       "      <td>23.0</td>\n",
       "      <td>11</td>\n",
       "      <td>32.0</td>\n",
       "      <td>Female</td>\n",
       "      <td>Spinal_Cord_Dysfunction</td>\n",
       "      <td>0.0</td>\n",
       "    </tr>\n",
       "    <tr>\n",
       "      <th>4</th>\n",
       "      <td>2</td>\n",
       "      <td>1</td>\n",
       "      <td>75.0</td>\n",
       "      <td>63.0</td>\n",
       "      <td>14</td>\n",
       "      <td>56.0</td>\n",
       "      <td>Female</td>\n",
       "      <td>Spinal_Cord_Dysfunction</td>\n",
       "      <td>1.0</td>\n",
       "    </tr>\n",
       "  </tbody>\n",
       "</table>\n",
       "</div>"
      ],
      "text/plain": [
       "   Patient  DayNum  Intake  PainScore  NumObs  AgeAtAdmit  Gender  \\\n",
       "0        1       1    80.0       29.0       7        32.0  Female   \n",
       "1        1       2    60.0       24.0       9        32.0  Female   \n",
       "2        1       3    70.0       38.0      11        32.0  Female   \n",
       "3        1       4    40.0       23.0      11        32.0  Female   \n",
       "4        2       1    75.0       63.0      14        56.0  Female   \n",
       "\n",
       "           ImpairmentGroup  Depression  \n",
       "0  Spinal_Cord_Dysfunction         0.0  \n",
       "1  Spinal_Cord_Dysfunction         0.0  \n",
       "2  Spinal_Cord_Dysfunction         0.0  \n",
       "3  Spinal_Cord_Dysfunction         0.0  \n",
       "4  Spinal_Cord_Dysfunction         1.0  "
      ]
     },
     "execution_count": 6,
     "metadata": {},
     "output_type": "execute_result"
    }
   ],
   "source": [
    "data.head()"
   ]
  },
  {
   "cell_type": "code",
   "execution_count": 7,
   "metadata": {
    "ExecuteTime": {
     "end_time": "2017-11-23T03:44:02.906132Z",
     "start_time": "2017-11-23T03:44:02.895452Z"
    }
   },
   "outputs": [
    {
     "data": {
      "text/html": [
       "<div>\n",
       "<style>\n",
       "    .dataframe thead tr:only-child th {\n",
       "        text-align: right;\n",
       "    }\n",
       "\n",
       "    .dataframe thead th {\n",
       "        text-align: left;\n",
       "    }\n",
       "\n",
       "    .dataframe tbody tr th {\n",
       "        vertical-align: top;\n",
       "    }\n",
       "</style>\n",
       "<table border=\"1\" class=\"dataframe\">\n",
       "  <thead>\n",
       "    <tr style=\"text-align: right;\">\n",
       "      <th></th>\n",
       "      <th>Patient</th>\n",
       "      <th>AgeAtAdmit</th>\n",
       "      <th>Gender</th>\n",
       "      <th>ImpairmentGroup</th>\n",
       "      <th>Depression</th>\n",
       "    </tr>\n",
       "  </thead>\n",
       "  <tbody>\n",
       "    <tr>\n",
       "      <th>0</th>\n",
       "      <td>1</td>\n",
       "      <td>32</td>\n",
       "      <td>Female</td>\n",
       "      <td>Spinal_Cord_Dysfunction</td>\n",
       "      <td>0</td>\n",
       "    </tr>\n",
       "    <tr>\n",
       "      <th>1</th>\n",
       "      <td>2</td>\n",
       "      <td>56</td>\n",
       "      <td>Female</td>\n",
       "      <td>Spinal_Cord_Dysfunction</td>\n",
       "      <td>1</td>\n",
       "    </tr>\n",
       "    <tr>\n",
       "      <th>2</th>\n",
       "      <td>3</td>\n",
       "      <td>82</td>\n",
       "      <td>Male</td>\n",
       "      <td>Stroke</td>\n",
       "      <td>0</td>\n",
       "    </tr>\n",
       "    <tr>\n",
       "      <th>3</th>\n",
       "      <td>4</td>\n",
       "      <td>92</td>\n",
       "      <td>Male</td>\n",
       "      <td>Debility</td>\n",
       "      <td>0</td>\n",
       "    </tr>\n",
       "    <tr>\n",
       "      <th>4</th>\n",
       "      <td>5</td>\n",
       "      <td>67</td>\n",
       "      <td>Female</td>\n",
       "      <td>Orthopaedic_Disorders</td>\n",
       "      <td>1</td>\n",
       "    </tr>\n",
       "  </tbody>\n",
       "</table>\n",
       "</div>"
      ],
      "text/plain": [
       "   Patient  AgeAtAdmit  Gender          ImpairmentGroup  Depression\n",
       "0        1          32  Female  Spinal_Cord_Dysfunction           0\n",
       "1        2          56  Female  Spinal_Cord_Dysfunction           1\n",
       "2        3          82    Male                   Stroke           0\n",
       "3        4          92    Male                 Debility           0\n",
       "4        5          67  Female    Orthopaedic_Disorders           1"
      ]
     },
     "execution_count": 7,
     "metadata": {},
     "output_type": "execute_result"
    }
   ],
   "source": [
    "details.head()"
   ]
  },
  {
   "cell_type": "markdown",
   "metadata": {},
   "source": [
    "## Explore details"
   ]
  },
  {
   "cell_type": "markdown",
   "metadata": {},
   "source": [
    "### Age"
   ]
  },
  {
   "cell_type": "markdown",
   "metadata": {},
   "source": [
    "Overall Distribution"
   ]
  },
  {
   "cell_type": "code",
   "execution_count": 9,
   "metadata": {
    "ExecuteTime": {
     "end_time": "2017-11-23T03:44:19.448081Z",
     "start_time": "2017-11-23T03:44:19.379287Z"
    }
   },
   "outputs": [
    {
     "data": {
      "text/html": [
       "\n",
       "\n",
       "    <div class=\"bk-root\">\n",
       "        <div class=\"bk-plotdiv\" id=\"214ffa95-2478-4189-81fc-061d012c14f3\"></div>\n",
       "    </div>\n",
       "<script type=\"text/javascript\">\n",
       "  \n",
       "  (function(global) {\n",
       "    function now() {\n",
       "      return new Date();\n",
       "    }\n",
       "  \n",
       "    var force = false;\n",
       "  \n",
       "    if (typeof (window._bokeh_onload_callbacks) === \"undefined\" || force === true) {\n",
       "      window._bokeh_onload_callbacks = [];\n",
       "      window._bokeh_is_loading = undefined;\n",
       "    }\n",
       "  \n",
       "  \n",
       "    \n",
       "    if (typeof (window._bokeh_timeout) === \"undefined\" || force === true) {\n",
       "      window._bokeh_timeout = Date.now() + 0;\n",
       "      window._bokeh_failed_load = false;\n",
       "    }\n",
       "  \n",
       "    var NB_LOAD_WARNING = {'data': {'text/html':\n",
       "       \"<div style='background-color: #fdd'>\\n\"+\n",
       "       \"<p>\\n\"+\n",
       "       \"BokehJS does not appear to have successfully loaded. If loading BokehJS from CDN, this \\n\"+\n",
       "       \"may be due to a slow or bad network connection. Possible fixes:\\n\"+\n",
       "       \"</p>\\n\"+\n",
       "       \"<ul>\\n\"+\n",
       "       \"<li>re-rerun `output_notebook()` to attempt to load from CDN again, or</li>\\n\"+\n",
       "       \"<li>use INLINE resources instead, as so:</li>\\n\"+\n",
       "       \"</ul>\\n\"+\n",
       "       \"<code>\\n\"+\n",
       "       \"from bokeh.resources import INLINE\\n\"+\n",
       "       \"output_notebook(resources=INLINE)\\n\"+\n",
       "       \"</code>\\n\"+\n",
       "       \"</div>\"}};\n",
       "  \n",
       "    function display_loaded() {\n",
       "      if (window.Bokeh !== undefined) {\n",
       "        var el = document.getElementById(\"214ffa95-2478-4189-81fc-061d012c14f3\");\n",
       "        el.textContent = \"BokehJS \" + Bokeh.version + \" successfully loaded.\";\n",
       "      } else if (Date.now() < window._bokeh_timeout) {\n",
       "        setTimeout(display_loaded, 100)\n",
       "      }\n",
       "    }\n",
       "  \n",
       "    function run_callbacks() {\n",
       "      window._bokeh_onload_callbacks.forEach(function(callback) { callback() });\n",
       "      delete window._bokeh_onload_callbacks\n",
       "      console.info(\"Bokeh: all callbacks have finished\");\n",
       "    }\n",
       "  \n",
       "    function load_libs(js_urls, callback) {\n",
       "      window._bokeh_onload_callbacks.push(callback);\n",
       "      if (window._bokeh_is_loading > 0) {\n",
       "        console.log(\"Bokeh: BokehJS is being loaded, scheduling callback at\", now());\n",
       "        return null;\n",
       "      }\n",
       "      if (js_urls == null || js_urls.length === 0) {\n",
       "        run_callbacks();\n",
       "        return null;\n",
       "      }\n",
       "      console.log(\"Bokeh: BokehJS not loaded, scheduling load and callback at\", now());\n",
       "      window._bokeh_is_loading = js_urls.length;\n",
       "      for (var i = 0; i < js_urls.length; i++) {\n",
       "        var url = js_urls[i];\n",
       "        var s = document.createElement('script');\n",
       "        s.src = url;\n",
       "        s.async = false;\n",
       "        s.onreadystatechange = s.onload = function() {\n",
       "          window._bokeh_is_loading--;\n",
       "          if (window._bokeh_is_loading === 0) {\n",
       "            console.log(\"Bokeh: all BokehJS libraries loaded\");\n",
       "            run_callbacks()\n",
       "          }\n",
       "        };\n",
       "        s.onerror = function() {\n",
       "          console.warn(\"failed to load library \" + url);\n",
       "        };\n",
       "        console.log(\"Bokeh: injecting script tag for BokehJS library: \", url);\n",
       "        document.getElementsByTagName(\"head\")[0].appendChild(s);\n",
       "      }\n",
       "    };var element = document.getElementById(\"214ffa95-2478-4189-81fc-061d012c14f3\");\n",
       "    if (element == null) {\n",
       "      console.log(\"Bokeh: ERROR: autoload.js configured with elementid '214ffa95-2478-4189-81fc-061d012c14f3' but no matching script tag was found. \")\n",
       "      return false;\n",
       "    }\n",
       "  \n",
       "    var js_urls = [];\n",
       "  \n",
       "    var inline_js = [\n",
       "      function(Bokeh) {\n",
       "        (function() {\n",
       "          var fn = function() {\n",
       "            var docs_json = {\"4b98d1a7-66fe-418d-9538-e9f2c7781dbd\":{\"roots\":{\"references\":[{\"attributes\":{\"plot\":{\"id\":\"d2c5df7d-7b41-4ab0-a506-a17a74b56dc0\",\"subtype\":\"Figure\",\"type\":\"Plot\"}},\"id\":\"39c5c507-c929-4f13-b87e-fdfb09c6f052\",\"type\":\"SaveTool\"},{\"attributes\":{\"dimension\":1,\"plot\":{\"id\":\"d2c5df7d-7b41-4ab0-a506-a17a74b56dc0\",\"subtype\":\"Figure\",\"type\":\"Plot\"},\"ticker\":{\"id\":\"a1482612-314d-4118-90d6-0cf530ddf8d6\",\"type\":\"BasicTicker\"}},\"id\":\"2cbe8975-d946-47f5-94af-5830735a77b1\",\"type\":\"Grid\"},{\"attributes\":{\"below\":[{\"id\":\"9243b843-e360-48c4-aa79-b0f5ec180b30\",\"type\":\"LinearAxis\"}],\"left\":[{\"id\":\"90e1f9f5-05a0-47db-a384-349090ed567d\",\"type\":\"LinearAxis\"}],\"plot_height\":300,\"renderers\":[{\"id\":\"9243b843-e360-48c4-aa79-b0f5ec180b30\",\"type\":\"LinearAxis\"},{\"id\":\"fdff7c02-d683-45af-8893-ce34d023f77a\",\"type\":\"Grid\"},{\"id\":\"90e1f9f5-05a0-47db-a384-349090ed567d\",\"type\":\"LinearAxis\"},{\"id\":\"2cbe8975-d946-47f5-94af-5830735a77b1\",\"type\":\"Grid\"},{\"id\":\"956fe349-e74a-4391-9db5-41d52d3cfc8e\",\"type\":\"BoxAnnotation\"},{\"id\":\"91eff5fd-f464-4c58-a2c9-32f0c8d9995d\",\"type\":\"GlyphRenderer\"}],\"title\":{\"id\":\"0b31048c-b4ec-4cf2-b9bd-872c5f893047\",\"type\":\"Title\"},\"tool_events\":{\"id\":\"63a74e6d-6742-49bb-b3f5-07ad0610cd93\",\"type\":\"ToolEvents\"},\"toolbar\":{\"id\":\"9029ea07-0b72-4700-bbb1-e9d6cd0ec753\",\"type\":\"Toolbar\"},\"x_range\":{\"id\":\"585a33fd-8c90-49ff-be51-1d790a84ab2f\",\"type\":\"DataRange1d\"},\"y_range\":{\"id\":\"94d4e793-0e79-48b4-b0e9-44900329aa36\",\"type\":\"DataRange1d\"}},\"id\":\"d2c5df7d-7b41-4ab0-a506-a17a74b56dc0\",\"subtype\":\"Figure\",\"type\":\"Plot\"},{\"attributes\":{\"plot\":{\"id\":\"d2c5df7d-7b41-4ab0-a506-a17a74b56dc0\",\"subtype\":\"Figure\",\"type\":\"Plot\"},\"ticker\":{\"id\":\"ee388091-8254-4353-a4ae-5f42d9cfb076\",\"type\":\"BasicTicker\"}},\"id\":\"fdff7c02-d683-45af-8893-ce34d023f77a\",\"type\":\"Grid\"},{\"attributes\":{\"plot\":null,\"text\":\"Histogram: AgeAtAdmit\"},\"id\":\"0b31048c-b4ec-4cf2-b9bd-872c5f893047\",\"type\":\"Title\"},{\"attributes\":{\"callback\":null},\"id\":\"94d4e793-0e79-48b4-b0e9-44900329aa36\",\"type\":\"DataRange1d\"},{\"attributes\":{\"plot\":{\"id\":\"d2c5df7d-7b41-4ab0-a506-a17a74b56dc0\",\"subtype\":\"Figure\",\"type\":\"Plot\"}},\"id\":\"51a17fce-2030-4d88-a2b4-fc9543c443d2\",\"type\":\"PanTool\"},{\"attributes\":{\"plot\":{\"id\":\"d2c5df7d-7b41-4ab0-a506-a17a74b56dc0\",\"subtype\":\"Figure\",\"type\":\"Plot\"}},\"id\":\"fc2c0933-ed81-4400-823d-422bbb3a75eb\",\"type\":\"WheelZoomTool\"},{\"attributes\":{\"plot\":{\"id\":\"d2c5df7d-7b41-4ab0-a506-a17a74b56dc0\",\"subtype\":\"Figure\",\"type\":\"Plot\"}},\"id\":\"e87bbb46-b149-4f60-945a-a6c41e7d7b67\",\"type\":\"HelpTool\"},{\"attributes\":{\"bottom_units\":\"screen\",\"fill_alpha\":{\"value\":0.5},\"fill_color\":{\"value\":\"lightgrey\"},\"left_units\":\"screen\",\"level\":\"overlay\",\"line_alpha\":{\"value\":1.0},\"line_color\":{\"value\":\"black\"},\"line_dash\":[4,4],\"line_width\":{\"value\":2},\"plot\":null,\"render_mode\":\"css\",\"right_units\":\"screen\",\"top_units\":\"screen\"},\"id\":\"956fe349-e74a-4391-9db5-41d52d3cfc8e\",\"type\":\"BoxAnnotation\"},{\"attributes\":{},\"id\":\"ee388091-8254-4353-a4ae-5f42d9cfb076\",\"type\":\"BasicTicker\"},{\"attributes\":{\"formatter\":{\"id\":\"f6690a98-ba25-4fe8-9694-971f1b8af2a5\",\"type\":\"BasicTickFormatter\"},\"plot\":{\"id\":\"d2c5df7d-7b41-4ab0-a506-a17a74b56dc0\",\"subtype\":\"Figure\",\"type\":\"Plot\"},\"ticker\":{\"id\":\"ee388091-8254-4353-a4ae-5f42d9cfb076\",\"type\":\"BasicTicker\"}},\"id\":\"9243b843-e360-48c4-aa79-b0f5ec180b30\",\"type\":\"LinearAxis\"},{\"attributes\":{},\"id\":\"63a74e6d-6742-49bb-b3f5-07ad0610cd93\",\"type\":\"ToolEvents\"},{\"attributes\":{},\"id\":\"f6690a98-ba25-4fe8-9694-971f1b8af2a5\",\"type\":\"BasicTickFormatter\"},{\"attributes\":{},\"id\":\"9a420813-1c0e-4e20-87d6-594589f6f545\",\"type\":\"BasicTickFormatter\"},{\"attributes\":{\"line_alpha\":{\"value\":0.1},\"line_color\":{\"value\":\"#1f77b4\"},\"x\":{\"field\":\"x\"},\"y\":{\"field\":\"y\"}},\"id\":\"39f1ba29-0440-4986-8568-89909dea830f\",\"type\":\"Line\"},{\"attributes\":{\"line_color\":{\"value\":\"#1f77b4\"},\"x\":{\"field\":\"x\"},\"y\":{\"field\":\"y\"}},\"id\":\"701f912f-25d0-444d-8b4c-8b6b3767979d\",\"type\":\"Line\"},{\"attributes\":{\"callback\":null},\"id\":\"585a33fd-8c90-49ff-be51-1d790a84ab2f\",\"type\":\"DataRange1d\"},{\"attributes\":{},\"id\":\"a1482612-314d-4118-90d6-0cf530ddf8d6\",\"type\":\"BasicTicker\"},{\"attributes\":{\"active_drag\":\"auto\",\"active_scroll\":\"auto\",\"active_tap\":\"auto\",\"tools\":[{\"id\":\"51a17fce-2030-4d88-a2b4-fc9543c443d2\",\"type\":\"PanTool\"},{\"id\":\"fc2c0933-ed81-4400-823d-422bbb3a75eb\",\"type\":\"WheelZoomTool\"},{\"id\":\"019db38b-32b0-4a41-8c43-4bbef45cb9ef\",\"type\":\"BoxZoomTool\"},{\"id\":\"39c5c507-c929-4f13-b87e-fdfb09c6f052\",\"type\":\"SaveTool\"},{\"id\":\"110e9055-8847-488c-8f19-980c9b366aa4\",\"type\":\"ResetTool\"},{\"id\":\"e87bbb46-b149-4f60-945a-a6c41e7d7b67\",\"type\":\"HelpTool\"}]},\"id\":\"9029ea07-0b72-4700-bbb1-e9d6cd0ec753\",\"type\":\"Toolbar\"},{\"attributes\":{\"overlay\":{\"id\":\"956fe349-e74a-4391-9db5-41d52d3cfc8e\",\"type\":\"BoxAnnotation\"},\"plot\":{\"id\":\"d2c5df7d-7b41-4ab0-a506-a17a74b56dc0\",\"subtype\":\"Figure\",\"type\":\"Plot\"}},\"id\":\"019db38b-32b0-4a41-8c43-4bbef45cb9ef\",\"type\":\"BoxZoomTool\"},{\"attributes\":{\"callback\":null,\"column_names\":[\"x\",\"y\"],\"data\":{\"x\":{\"__ndarray__\":\"MzMzMzOzNECamZmZmRk6QAAAAAAAgD9ANDMzMzNzQkBmZmZmZiZFQJqZmZmZ2UdAzszMzMyMSkAAAAAAAEBNQDMzMzMz809AMzMzMzNTUUDNzMzMzKxSQGdmZmZmBlRAAAAAAABgVUCamZmZmblWQDQzMzMzE1hA\",\"dtype\":\"float64\",\"shape\":[15]},\"y\":[3,3,4,3,2,3,3,10,12,22,19,9,4,3,1]}},\"id\":\"9047694c-6b4f-4e58-9747-f70ad8d9b676\",\"type\":\"ColumnDataSource\"},{\"attributes\":{\"data_source\":{\"id\":\"9047694c-6b4f-4e58-9747-f70ad8d9b676\",\"type\":\"ColumnDataSource\"},\"glyph\":{\"id\":\"701f912f-25d0-444d-8b4c-8b6b3767979d\",\"type\":\"Line\"},\"hover_glyph\":null,\"muted_glyph\":null,\"nonselection_glyph\":{\"id\":\"39f1ba29-0440-4986-8568-89909dea830f\",\"type\":\"Line\"},\"selection_glyph\":null},\"id\":\"91eff5fd-f464-4c58-a2c9-32f0c8d9995d\",\"type\":\"GlyphRenderer\"},{\"attributes\":{\"formatter\":{\"id\":\"9a420813-1c0e-4e20-87d6-594589f6f545\",\"type\":\"BasicTickFormatter\"},\"plot\":{\"id\":\"d2c5df7d-7b41-4ab0-a506-a17a74b56dc0\",\"subtype\":\"Figure\",\"type\":\"Plot\"},\"ticker\":{\"id\":\"a1482612-314d-4118-90d6-0cf530ddf8d6\",\"type\":\"BasicTicker\"}},\"id\":\"90e1f9f5-05a0-47db-a384-349090ed567d\",\"type\":\"LinearAxis\"},{\"attributes\":{\"plot\":{\"id\":\"d2c5df7d-7b41-4ab0-a506-a17a74b56dc0\",\"subtype\":\"Figure\",\"type\":\"Plot\"}},\"id\":\"110e9055-8847-488c-8f19-980c9b366aa4\",\"type\":\"ResetTool\"}],\"root_ids\":[\"d2c5df7d-7b41-4ab0-a506-a17a74b56dc0\"]},\"title\":\"Bokeh Application\",\"version\":\"0.12.5\"}};\n",
       "            var render_items = [{\"docid\":\"4b98d1a7-66fe-418d-9538-e9f2c7781dbd\",\"elementid\":\"214ffa95-2478-4189-81fc-061d012c14f3\",\"modelid\":\"d2c5df7d-7b41-4ab0-a506-a17a74b56dc0\"}];\n",
       "            \n",
       "            Bokeh.embed.embed_items(docs_json, render_items);\n",
       "          };\n",
       "          if (document.readyState != \"loading\") fn();\n",
       "          else document.addEventListener(\"DOMContentLoaded\", fn);\n",
       "        })();\n",
       "      },\n",
       "      function(Bokeh) {\n",
       "      }\n",
       "    ];\n",
       "  \n",
       "    function run_inline_js() {\n",
       "      \n",
       "      if ((window.Bokeh !== undefined) || (force === true)) {\n",
       "        for (var i = 0; i < inline_js.length; i++) {\n",
       "          inline_js[i](window.Bokeh);\n",
       "        }if (force === true) {\n",
       "          display_loaded();\n",
       "        }} else if (Date.now() < window._bokeh_timeout) {\n",
       "        setTimeout(run_inline_js, 100);\n",
       "      } else if (!window._bokeh_failed_load) {\n",
       "        console.log(\"Bokeh: BokehJS failed to load within specified timeout.\");\n",
       "        window._bokeh_failed_load = true;\n",
       "      } else if (force !== true) {\n",
       "        var cell = $(document.getElementById(\"214ffa95-2478-4189-81fc-061d012c14f3\")).parents('.cell').data().cell;\n",
       "        cell.output_area.append_execute_result(NB_LOAD_WARNING)\n",
       "      }\n",
       "  \n",
       "    }\n",
       "  \n",
       "    if (window._bokeh_is_loading === 0) {\n",
       "      console.log(\"Bokeh: BokehJS loaded, going straight to plotting\");\n",
       "      run_inline_js();\n",
       "    } else {\n",
       "      load_libs(js_urls, function() {\n",
       "        console.log(\"Bokeh: BokehJS plotting callback run at\", now());\n",
       "        run_inline_js();\n",
       "      });\n",
       "    }\n",
       "  }(this));\n",
       "</script>"
      ]
     },
     "metadata": {},
     "output_type": "display_data"
    }
   ],
   "source": [
    "plotting.show(plotting.histogram(details.AgeAtAdmit, bins=15))"
   ]
  },
  {
   "cell_type": "markdown",
   "metadata": {},
   "source": [
    "Conditional on gender"
   ]
  },
  {
   "cell_type": "code",
   "execution_count": 16,
   "metadata": {
    "ExecuteTime": {
     "end_time": "2017-11-23T03:49:40.842695Z",
     "start_time": "2017-11-23T03:49:40.834741Z"
    }
   },
   "outputs": [
    {
     "data": {
      "text/html": [
       "<div>\n",
       "<style>\n",
       "    .dataframe thead tr:only-child th {\n",
       "        text-align: right;\n",
       "    }\n",
       "\n",
       "    .dataframe thead th {\n",
       "        text-align: left;\n",
       "    }\n",
       "\n",
       "    .dataframe tbody tr th {\n",
       "        vertical-align: top;\n",
       "    }\n",
       "</style>\n",
       "<table border=\"1\" class=\"dataframe\">\n",
       "  <thead>\n",
       "    <tr style=\"text-align: right;\">\n",
       "      <th></th>\n",
       "      <th>AgeAtAdmit</th>\n",
       "    </tr>\n",
       "    <tr>\n",
       "      <th>Gender</th>\n",
       "      <th></th>\n",
       "    </tr>\n",
       "  </thead>\n",
       "  <tbody>\n",
       "    <tr>\n",
       "      <th>Female</th>\n",
       "      <td>67</td>\n",
       "    </tr>\n",
       "    <tr>\n",
       "      <th>Male</th>\n",
       "      <td>69</td>\n",
       "    </tr>\n",
       "  </tbody>\n",
       "</table>\n",
       "</div>"
      ],
      "text/plain": [
       "        AgeAtAdmit\n",
       "Gender            \n",
       "Female          67\n",
       "Male            69"
      ]
     },
     "execution_count": 16,
     "metadata": {},
     "output_type": "execute_result"
    }
   ],
   "source": [
    "details[['Gender', 'AgeAtAdmit']].groupby('Gender').median()"
   ]
  },
  {
   "cell_type": "markdown",
   "metadata": {},
   "source": [
    "Conditional on depression"
   ]
  },
  {
   "cell_type": "code",
   "execution_count": 17,
   "metadata": {
    "ExecuteTime": {
     "end_time": "2017-11-23T03:50:05.302987Z",
     "start_time": "2017-11-23T03:50:05.292795Z"
    }
   },
   "outputs": [
    {
     "data": {
      "text/html": [
       "<div>\n",
       "<style>\n",
       "    .dataframe thead tr:only-child th {\n",
       "        text-align: right;\n",
       "    }\n",
       "\n",
       "    .dataframe thead th {\n",
       "        text-align: left;\n",
       "    }\n",
       "\n",
       "    .dataframe tbody tr th {\n",
       "        vertical-align: top;\n",
       "    }\n",
       "</style>\n",
       "<table border=\"1\" class=\"dataframe\">\n",
       "  <thead>\n",
       "    <tr style=\"text-align: right;\">\n",
       "      <th></th>\n",
       "      <th>AgeAtAdmit</th>\n",
       "    </tr>\n",
       "    <tr>\n",
       "      <th>Depression</th>\n",
       "      <th></th>\n",
       "    </tr>\n",
       "  </thead>\n",
       "  <tbody>\n",
       "    <tr>\n",
       "      <th>0</th>\n",
       "      <td>68</td>\n",
       "    </tr>\n",
       "    <tr>\n",
       "      <th>1</th>\n",
       "      <td>67</td>\n",
       "    </tr>\n",
       "  </tbody>\n",
       "</table>\n",
       "</div>"
      ],
      "text/plain": [
       "            AgeAtAdmit\n",
       "Depression            \n",
       "0                   68\n",
       "1                   67"
      ]
     },
     "execution_count": 17,
     "metadata": {},
     "output_type": "execute_result"
    }
   ],
   "source": [
    "details[['Depression', 'AgeAtAdmit']].groupby('Depression').median()"
   ]
  },
  {
   "cell_type": "markdown",
   "metadata": {},
   "source": [
    "Conditional on impairment"
   ]
  },
  {
   "cell_type": "code",
   "execution_count": 20,
   "metadata": {
    "ExecuteTime": {
     "end_time": "2017-11-23T03:50:51.746334Z",
     "start_time": "2017-11-23T03:50:51.736148Z"
    }
   },
   "outputs": [
    {
     "data": {
      "text/html": [
       "<div>\n",
       "<style>\n",
       "    .dataframe thead tr:only-child th {\n",
       "        text-align: right;\n",
       "    }\n",
       "\n",
       "    .dataframe thead th {\n",
       "        text-align: left;\n",
       "    }\n",
       "\n",
       "    .dataframe tbody tr th {\n",
       "        vertical-align: top;\n",
       "    }\n",
       "</style>\n",
       "<table border=\"1\" class=\"dataframe\">\n",
       "  <thead>\n",
       "    <tr style=\"text-align: right;\">\n",
       "      <th></th>\n",
       "      <th>AgeAtAdmit</th>\n",
       "    </tr>\n",
       "    <tr>\n",
       "      <th>ImpairmentGroup</th>\n",
       "      <th></th>\n",
       "    </tr>\n",
       "  </thead>\n",
       "  <tbody>\n",
       "    <tr>\n",
       "      <th>Burns</th>\n",
       "      <td>24.0</td>\n",
       "    </tr>\n",
       "    <tr>\n",
       "      <th>Congenital_Deformities</th>\n",
       "      <td>25.0</td>\n",
       "    </tr>\n",
       "    <tr>\n",
       "      <th>Amputations</th>\n",
       "      <td>58.0</td>\n",
       "    </tr>\n",
       "    <tr>\n",
       "      <th>Neurologic_conditions</th>\n",
       "      <td>58.0</td>\n",
       "    </tr>\n",
       "    <tr>\n",
       "      <th>Neuromuscular_disorders</th>\n",
       "      <td>60.5</td>\n",
       "    </tr>\n",
       "    <tr>\n",
       "      <th>Stroke</th>\n",
       "      <td>62.0</td>\n",
       "    </tr>\n",
       "    <tr>\n",
       "      <th>Brain_Dysfunction</th>\n",
       "      <td>63.0</td>\n",
       "    </tr>\n",
       "    <tr>\n",
       "      <th>Pulmonary_Disorders</th>\n",
       "      <td>64.0</td>\n",
       "    </tr>\n",
       "    <tr>\n",
       "      <th>Debility</th>\n",
       "      <td>68.0</td>\n",
       "    </tr>\n",
       "    <tr>\n",
       "      <th>Cardiac</th>\n",
       "      <td>68.5</td>\n",
       "    </tr>\n",
       "    <tr>\n",
       "      <th>Spinal_Cord_Dysfunction</th>\n",
       "      <td>68.5</td>\n",
       "    </tr>\n",
       "    <tr>\n",
       "      <th>Major_Multiple_Trauma</th>\n",
       "      <td>72.5</td>\n",
       "    </tr>\n",
       "    <tr>\n",
       "      <th>Orthopaedic_Disorders</th>\n",
       "      <td>75.0</td>\n",
       "    </tr>\n",
       "  </tbody>\n",
       "</table>\n",
       "</div>"
      ],
      "text/plain": [
       "                         AgeAtAdmit\n",
       "ImpairmentGroup                    \n",
       "Burns                          24.0\n",
       "Congenital_Deformities         25.0\n",
       "Amputations                    58.0\n",
       "Neurologic_conditions          58.0\n",
       "Neuromuscular_disorders        60.5\n",
       "Stroke                         62.0\n",
       "Brain_Dysfunction              63.0\n",
       "Pulmonary_Disorders            64.0\n",
       "Debility                       68.0\n",
       "Cardiac                        68.5\n",
       "Spinal_Cord_Dysfunction        68.5\n",
       "Major_Multiple_Trauma          72.5\n",
       "Orthopaedic_Disorders          75.0"
      ]
     },
     "execution_count": 20,
     "metadata": {},
     "output_type": "execute_result"
    }
   ],
   "source": [
    "details[['ImpairmentGroup', 'AgeAtAdmit']].groupby('ImpairmentGroup').median().sort_values('AgeAtAdmit')"
   ]
  },
  {
   "cell_type": "markdown",
   "metadata": {},
   "source": [
    "### Impairment"
   ]
  },
  {
   "cell_type": "code",
   "execution_count": 23,
   "metadata": {
    "ExecuteTime": {
     "end_time": "2017-11-23T03:51:13.311373Z",
     "start_time": "2017-11-23T03:51:13.303836Z"
    }
   },
   "outputs": [
    {
     "data": {
      "text/plain": [
       "Orthopaedic_Disorders      33\n",
       "Spinal_Cord_Dysfunction    26\n",
       "Stroke                     13\n",
       "Debility                    5\n",
       "Amputations                 5\n",
       "Cardiac                     4\n",
       "Neuromuscular_disorders     4\n",
       "Pulmonary_Disorders         3\n",
       "Neurologic_conditions       3\n",
       "Major_Multiple_Trauma       2\n",
       "Burns                       1\n",
       "Congenital_Deformities      1\n",
       "Brain_Dysfunction           1\n",
       "Name: ImpairmentGroup, dtype: int64"
      ]
     },
     "execution_count": 23,
     "metadata": {},
     "output_type": "execute_result"
    }
   ],
   "source": [
    "details.ImpairmentGroup.value_counts()"
   ]
  },
  {
   "cell_type": "markdown",
   "metadata": {},
   "source": [
    "## Depression Gender Interaction"
   ]
  },
  {
   "cell_type": "markdown",
   "metadata": {},
   "source": [
    "Model: $$s_{t,i} \\sim \\beta_{0} + \\beta_{1}p_{t,i} + \\alpha^{df} + \\alpha^{nf} + \\alpha^{dm} + \\alpha^{nm} + \\epsilon_{t,i}$$"
   ]
  },
  {
   "cell_type": "markdown",
   "metadata": {},
   "source": [
    "Sufficiency?"
   ]
  },
  {
   "cell_type": "code",
   "execution_count": 36,
   "metadata": {
    "ExecuteTime": {
     "end_time": "2017-11-23T04:04:29.092783Z",
     "start_time": "2017-11-23T04:04:29.082705Z"
    }
   },
   "outputs": [
    {
     "data": {
      "text/plain": [
       "MaleNon    35\n",
       "FemNon     32\n",
       "FemDep     28\n",
       "MaleDep     6\n",
       "Name: DepGenInter, dtype: int64"
      ]
     },
     "execution_count": 36,
     "metadata": {},
     "output_type": "execute_result"
    }
   ],
   "source": [
    "dgi_cats = {2:'FemNon',3:'MaleNon',4:'FemDep',6:'MaleDep'}\n",
    "dgi_counts = (((details.Depression + 1) * ((details.Gender=='Male').astype(int) + 2))\n",
    "            .to_frame('DepGenInter').applymap(dgi_cats.get))\n",
    "dgi_counts.DepGenInter.value_counts()"
   ]
  },
  {
   "cell_type": "code",
   "execution_count": 39,
   "metadata": {
    "ExecuteTime": {
     "end_time": "2017-11-23T04:05:43.498981Z",
     "start_time": "2017-11-23T04:05:43.487625Z"
    }
   },
   "outputs": [],
   "source": [
    "dgi = data.copy()\n",
    "dgi['FemDep'] = ((dgi.Depression==1)&(dgi.Gender=='Female')).astype(int)\n",
    "dgi['MaleDep'] = ((dgi.Depression==1)&(dgi.Gender=='Male')).astype(int)\n",
    "dgi['FemNon'] = ((dgi.Depression==0)&(dgi.Gender=='Female')).astype(int)\n",
    "dgi['MaleNon'] = ((dgi.Depression==0)&(dgi.Gender=='Male')).astype(int)"
   ]
  },
  {
   "cell_type": "code",
   "execution_count": 45,
   "metadata": {
    "ExecuteTime": {
     "end_time": "2017-11-23T04:08:52.247858Z",
     "start_time": "2017-11-23T04:08:52.221223Z"
    },
    "scrolled": false
   },
   "outputs": [
    {
     "data": {
      "text/html": [
       "<table class=\"simpletable\">\n",
       "<caption>OLS Regression Results</caption>\n",
       "<tr>\n",
       "  <th>Dep. Variable:</th>         <td>Intake</td>      <th>  R-squared:         </th> <td>   0.396</td> \n",
       "</tr>\n",
       "<tr>\n",
       "  <th>Model:</th>                   <td>OLS</td>       <th>  Adj. R-squared:    </th> <td>   0.394</td> \n",
       "</tr>\n",
       "<tr>\n",
       "  <th>Method:</th>             <td>Least Squares</td>  <th>  F-statistic:       </th> <td>   164.4</td> \n",
       "</tr>\n",
       "<tr>\n",
       "  <th>Date:</th>             <td>Wed, 22 Nov 2017</td> <th>  Prob (F-statistic):</th> <td>3.24e-108</td>\n",
       "</tr>\n",
       "<tr>\n",
       "  <th>Time:</th>                 <td>22:08:52</td>     <th>  Log-Likelihood:    </th> <td> -4695.9</td> \n",
       "</tr>\n",
       "<tr>\n",
       "  <th>No. Observations:</th>      <td>  1008</td>      <th>  AIC:               </th> <td>   9402.</td> \n",
       "</tr>\n",
       "<tr>\n",
       "  <th>Df Residuals:</th>          <td>  1003</td>      <th>  BIC:               </th> <td>   9426.</td> \n",
       "</tr>\n",
       "<tr>\n",
       "  <th>Df Model:</th>              <td>     4</td>      <th>                     </th>     <td> </td>    \n",
       "</tr>\n",
       "<tr>\n",
       "  <th>Covariance Type:</th>      <td>nonrobust</td>    <th>                     </th>     <td> </td>    \n",
       "</tr>\n",
       "</table>\n",
       "<table class=\"simpletable\">\n",
       "<tr>\n",
       "      <td></td>         <th>coef</th>     <th>std err</th>      <th>t</th>      <th>P>|t|</th>  <th>[0.025</th>    <th>0.975]</th>  \n",
       "</tr>\n",
       "<tr>\n",
       "  <th>const</th>     <td>    7.8485</td> <td>    1.118</td> <td>    7.018</td> <td> 0.000</td> <td>    5.654</td> <td>   10.043</td>\n",
       "</tr>\n",
       "<tr>\n",
       "  <th>PainScore</th> <td>    1.0662</td> <td>    0.051</td> <td>   20.970</td> <td> 0.000</td> <td>    0.966</td> <td>    1.166</td>\n",
       "</tr>\n",
       "<tr>\n",
       "  <th>FemDep</th>    <td>   16.2946</td> <td>    1.506</td> <td>   10.817</td> <td> 0.000</td> <td>   13.338</td> <td>   19.251</td>\n",
       "</tr>\n",
       "<tr>\n",
       "  <th>MaleDep</th>   <td>    0.6792</td> <td>    2.597</td> <td>    0.262</td> <td> 0.794</td> <td>   -4.418</td> <td>    5.776</td>\n",
       "</tr>\n",
       "<tr>\n",
       "  <th>FemNon</th>    <td>   -5.8837</td> <td>    1.477</td> <td>   -3.982</td> <td> 0.000</td> <td>   -8.783</td> <td>   -2.984</td>\n",
       "</tr>\n",
       "<tr>\n",
       "  <th>MaleNon</th>   <td>   -3.2416</td> <td>    1.281</td> <td>   -2.531</td> <td> 0.012</td> <td>   -5.755</td> <td>   -0.728</td>\n",
       "</tr>\n",
       "</table>\n",
       "<table class=\"simpletable\">\n",
       "<tr>\n",
       "  <th>Omnibus:</th>       <td>408.338</td> <th>  Durbin-Watson:     </th> <td>   0.504</td>\n",
       "</tr>\n",
       "<tr>\n",
       "  <th>Prob(Omnibus):</th> <td> 0.000</td>  <th>  Jarque-Bera (JB):  </th> <td>2052.160</td>\n",
       "</tr>\n",
       "<tr>\n",
       "  <th>Skew:</th>          <td> 1.825</td>  <th>  Prob(JB):          </th> <td>    0.00</td>\n",
       "</tr>\n",
       "<tr>\n",
       "  <th>Kurtosis:</th>      <td> 8.961</td>  <th>  Cond. No.          </th> <td>1.03e+17</td>\n",
       "</tr>\n",
       "</table>"
      ],
      "text/plain": [
       "<class 'statsmodels.iolib.summary.Summary'>\n",
       "\"\"\"\n",
       "                            OLS Regression Results                            \n",
       "==============================================================================\n",
       "Dep. Variable:                 Intake   R-squared:                       0.396\n",
       "Model:                            OLS   Adj. R-squared:                  0.394\n",
       "Method:                 Least Squares   F-statistic:                     164.4\n",
       "Date:                Wed, 22 Nov 2017   Prob (F-statistic):          3.24e-108\n",
       "Time:                        22:08:52   Log-Likelihood:                -4695.9\n",
       "No. Observations:                1008   AIC:                             9402.\n",
       "Df Residuals:                    1003   BIC:                             9426.\n",
       "Df Model:                           4                                         \n",
       "Covariance Type:            nonrobust                                         \n",
       "==============================================================================\n",
       "                 coef    std err          t      P>|t|      [0.025      0.975]\n",
       "------------------------------------------------------------------------------\n",
       "const          7.8485      1.118      7.018      0.000       5.654      10.043\n",
       "PainScore      1.0662      0.051     20.970      0.000       0.966       1.166\n",
       "FemDep        16.2946      1.506     10.817      0.000      13.338      19.251\n",
       "MaleDep        0.6792      2.597      0.262      0.794      -4.418       5.776\n",
       "FemNon        -5.8837      1.477     -3.982      0.000      -8.783      -2.984\n",
       "MaleNon       -3.2416      1.281     -2.531      0.012      -5.755      -0.728\n",
       "==============================================================================\n",
       "Omnibus:                      408.338   Durbin-Watson:                   0.504\n",
       "Prob(Omnibus):                  0.000   Jarque-Bera (JB):             2052.160\n",
       "Skew:                           1.825   Prob(JB):                         0.00\n",
       "Kurtosis:                       8.961   Cond. No.                     1.03e+17\n",
       "==============================================================================\n",
       "\n",
       "Warnings:\n",
       "[1] Standard Errors assume that the covariance matrix of the errors is correctly specified.\n",
       "[2] The smallest eigenvalue is 5.61e-29. This might indicate that there are\n",
       "strong multicollinearity problems or that the design matrix is singular.\n",
       "\"\"\""
      ]
     },
     "execution_count": 45,
     "metadata": {},
     "output_type": "execute_result"
    }
   ],
   "source": [
    "dgi_model = regression.ols(dgi.dropna(), ['PainScore', 'FemDep', 'MaleDep', 'FemNon', 'MaleNon'], 'Intake')\n",
    "dgi_model.summary()"
   ]
  },
  {
   "cell_type": "code",
   "execution_count": 46,
   "metadata": {
    "ExecuteTime": {
     "end_time": "2017-11-23T04:13:12.946072Z",
     "start_time": "2017-11-23T04:13:12.938450Z"
    }
   },
   "outputs": [
    {
     "data": {
      "text/plain": [
       "-4.4067"
      ]
     },
     "execution_count": 46,
     "metadata": {},
     "output_type": "execute_result"
    }
   ],
   "source": [
    "-5.8837 + 1.477"
   ]
  },
  {
   "cell_type": "code",
   "execution_count": 47,
   "metadata": {
    "ExecuteTime": {
     "end_time": "2017-11-23T04:13:23.559105Z",
     "start_time": "2017-11-23T04:13:23.552770Z"
    }
   },
   "outputs": [
    {
     "data": {
      "text/plain": [
       "-4.5226"
      ]
     },
     "execution_count": 47,
     "metadata": {},
     "output_type": "execute_result"
    }
   ],
   "source": [
    "-3.2416 - 1.281"
   ]
  }
 ],
 "metadata": {
  "kernelspec": {
   "display_name": "Python 3",
   "language": "python",
   "name": "python3"
  },
  "language_info": {
   "codemirror_mode": {
    "name": "ipython",
    "version": 3
   },
   "file_extension": ".py",
   "mimetype": "text/x-python",
   "name": "python",
   "nbconvert_exporter": "python",
   "pygments_lexer": "ipython3",
   "version": "3.6.1"
  }
 },
 "nbformat": 4,
 "nbformat_minor": 2
}
